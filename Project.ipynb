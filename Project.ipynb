{
 "cells": [
  {
   "cell_type": "markdown",
   "metadata": {},
   "source": [
    "# Iterative Prisoner's Dilemma\n",
    "\n",
    "\n",
    "### Description\n",
    "\n",
    "The [Prisoner's Dilemma](https://en.wikipedia.org/wiki/Prisoner%27s_dilemma) (PD) is a classical game analyzed in game theory, which is widely used to (attempt to) model social/economical interaction. It's a \"dilemma\" as, if exploited to explain the emergence of altruism in human or in general animal society, it fails badly at a first glance.\n",
    "\n",
    "The classical situation-representation of the PD is that of two prisoners whose conviction depends on their mutual cooperation. It is easier understood though if illustrated in terms of a trade-off game (closed bag exachange):\n",
    "\n",
    "*Two people meet and exchange closed bags, with the understanding that one of them contains money, and the other contains a purchase. Either player can choose to honor the deal by putting into his or her bag what he or she agreed, or he or she can defect by handing over an empty bag.*\n",
    "\n",
    "It is obvious that for both players the winning strategy is to NOT cooperate.\n",
    "\n",
    "Things changes when the interaction between the two individuals is iterated, in that case a more altruist attitude (strategy) is expected to emerge. The goal of this project is to test this hypothesis.\n",
    "\n",
    "Mathematically the PD can be expressed with very basic linear algebra. The key component is the **Payoff matrix** $M$, which quantify the reward each player gets depending on whether she cooperated or not (defect):\n",
    "\n",
    "$$\n",
    "M = \n",
    "\\begin{pmatrix} \n",
    "R & S \\\\\n",
    "T & P \n",
    "\\end{pmatrix}\n",
    "$$\n",
    "\n",
    "with $T,R,S,P$ integers that satisfy the following conditions:\n",
    "\n",
    "$$\n",
    "T>R>P>S; \\quad 2R > T+S\n",
    "$$\n",
    "\n",
    "for example $T=3$, $R=2$, $P=1$ and $S=0$, or  $T=5$, $R=3$, $P=2$, $S=0$. Each player choice (move) can be represented by one of the two axis in ${\\rm I\\!R}^2$, i.e. $u_C=\\begin{pmatrix} 1 \\\\ 0 \\end{pmatrix}$ or $u_D=\\begin{pmatrix} 0 \\\\ 1 \\end{pmatrix}$, where the first coordinate stands for *Cooperate* and the second for *Defect*. Being $u_1$ and $u_2$ their rewards $r_1$ and $r_2$ can be computed then as:\n",
    "\n",
    "$$\n",
    "r_1 = u_1^T M u_2\n",
    "\\quad\n",
    "\\quad\n",
    "r_2 = u_2^T M u_1\n",
    "$$\n",
    "\n",
    "In an Iterative Prisoner's Dilemma (IPD), two players play prisoner's dilemma more than once in succession and they remember previous actions of their opponent and change their strategy accordingly. The winning strategy is the one which yields to a larger reward at the end of the IPD.\n",
    "\n",
    "The strategy can be represented as a function which outputs either $u_C$ or $u_D$. Such function can depend on the opponent's history of moves, her on history of moves, on the number of moves played till that moment and so on, but it can only be based on a probability density function. Possible strategies are:\n",
    "\n",
    "* **Nice guy**: always cooperate (the function's output is always $u_D$)\n",
    "* **Bad guy**: always defect \n",
    "* **Mainly nice**: randomly defect $k\\%$ of the times and cooperate $100-k\\%$, $k<50$\n",
    "* **Mainly bad**: randomly defect $k\\%$ of the times and cooperate $100-k\\%$, $k>50$\n",
    "* **tit-for-tat**: start by cooperating, then repeat what the opponent has done in the previous move \n",
    "\n",
    "Many more and much more complex strategies can be implemented. The strategy can even change during the IPD.\n",
    "\n",
    "\n",
    "### Assignments\n",
    "\n",
    "* Implement a simple IPD between two players implementing two given strategies. Study the evolution along the tournament confronting different strategies; study the overall outcome in the different configurations. \n",
    "* Implement a multiple players IPD (MPIPD) where several strategies play against each other in a roud-robin scheme\n",
    "* Iterate what done in the previous task (repeated MPIPD, rMPIPD)  by increasing the population implementing a given strategy depending on the results that strategy achieved in the previous iteration\n",
    "* (*difficult*) Implement a rMPIPD where strategies are allowed to mutate. The goal is to simulate the effect of genetic mutations and the effect of natura selection. A parameter (gene) should encode the attidue of an individual to cooperate, such gene can mutate randomly and the corresponding phenotype should compete in the MPIPD such that the best-fitted is determined.  \n"
   ]
  },
  {
   "cell_type": "code",
   "execution_count": 1,
   "metadata": {},
   "outputs": [
    {
     "data": {
      "text/plain": [
       "'%.1f'"
      ]
     },
     "execution_count": 1,
     "metadata": {},
     "output_type": "execute_result"
    }
   ],
   "source": [
    "import numpy as np\n",
    "import numpy.random as npr\n",
    "import matplotlib.pyplot as plt\n",
    "from functools import partial\n",
    "import pandas as pd\n",
    "from IPython.display import display\n",
    "\n",
    "%precision 1"
   ]
  },
  {
   "cell_type": "code",
   "execution_count": 62,
   "metadata": {},
   "outputs": [],
   "source": [
    "uc, ud = [1,0], [0,1]\n",
    "k=0.3\n",
    "\n",
    "def nice_guy(it,u):\n",
    "    return uc\n",
    "def bad_guy(it,u):\n",
    "    return ud\n",
    "def mainly_nice(it,u):\n",
    "    a = npr.rand()\n",
    "    if a > k: return uc\n",
    "    else: return ud\n",
    "def mainly_bad(it,u):\n",
    "    a = npr.rand()\n",
    "    if a <= k: return uc\n",
    "    else: return ud\n",
    "def tit_tat(it,u):\n",
    "    if it==1: return uc\n",
    "    else: return u  \n",
    "\n",
    "strat = {'nice': partial(nice_guy),\n",
    "        'bad': partial(bad_guy), \n",
    "        'm_nice': partial(mainly_nice),\n",
    "        'm_bad': partial(mainly_bad),\n",
    "        'tit_tat': partial(tit_tat)}\n"
   ]
  },
  {
   "cell_type": "code",
   "execution_count": 63,
   "metadata": {},
   "outputs": [],
   "source": [
    "def fight(f,g,N=None,graph=False):\n",
    "\n",
    "    if N == None: N = 100\n",
    "            \n",
    "    R, S, T, P = 3, 0, 5, 1\n",
    "    M = np.array([[R,S],[T,P]])\n",
    "\n",
    "    p1, p2 = [-1], [-1]\n",
    "    for i in range(1,N+1):\n",
    "        p1.append(strat[f](i,p2[i-1]))\n",
    "        p2.append(strat[g](i,p1[i-1]))\n",
    "\n",
    "    p1 = np.array(p1[1:]).T\n",
    "    p2 = np.array(p2[1:]).T\n",
    "\n",
    "    result_1 = np.cumsum([np.dot(p1[:,i].T,np.dot(M,p2[:,i])) for i in range(N)])\n",
    "    result_2 = np.cumsum([np.dot(p2[:,i].T,np.dot(M,p1[:,i])) for i in range(N)])\n",
    "\n",
    "    if graph == True:\n",
    "        plt.xlabel('iteration')\n",
    "        plt.ylabel('points')\n",
    "        plt.plot(result_1, label=f)\n",
    "        plt.plot(result_2, label=g)\n",
    "        plt.legend()\n",
    "\n",
    "    return [result_1[-1], result_2[-1]]"
   ]
  },
  {
   "cell_type": "code",
   "execution_count": 64,
   "metadata": {},
   "outputs": [
    {
     "data": {
      "text/html": [
       "<style  type=\"text/css\" >\n",
       "#T_56eb5_row0_col0,#T_56eb5_row0_col4,#T_56eb5_row1_col1,#T_56eb5_row2_col2,#T_56eb5_row2_col4,#T_56eb5_row3_col3,#T_56eb5_row4_col0,#T_56eb5_row4_col2,#T_56eb5_row4_col4{\n",
       "            color :  lightblue;\n",
       "        }#T_56eb5_row0_col1,#T_56eb5_row0_col2,#T_56eb5_row0_col3,#T_56eb5_row2_col1,#T_56eb5_row2_col3,#T_56eb5_row3_col1,#T_56eb5_row4_col1,#T_56eb5_row4_col3{\n",
       "            color :  red;\n",
       "        }#T_56eb5_row1_col0,#T_56eb5_row1_col2,#T_56eb5_row1_col3,#T_56eb5_row1_col4,#T_56eb5_row2_col0,#T_56eb5_row3_col0,#T_56eb5_row3_col2,#T_56eb5_row3_col4{\n",
       "            color :  green;\n",
       "        }</style><table id=\"T_56eb5_\" ><thead>    <tr>        <th class=\"blank level0\" ></th>        <th class=\"col_heading level0 col0\" >nice</th>        <th class=\"col_heading level0 col1\" >bad</th>        <th class=\"col_heading level0 col2\" >m_nice</th>        <th class=\"col_heading level0 col3\" >m_bad</th>        <th class=\"col_heading level0 col4\" >tit_tat</th>        <th class=\"col_heading level0 col5\" >result</th>    </tr></thead><tbody>\n",
       "                <tr>\n",
       "                        <th id=\"T_56eb5_level0_row0\" class=\"row_heading level0 row0\" >nice</th>\n",
       "                        <td id=\"T_56eb5_row0_col0\" class=\"data row0 col0\" >300</td>\n",
       "                        <td id=\"T_56eb5_row0_col1\" class=\"data row0 col1\" >0</td>\n",
       "                        <td id=\"T_56eb5_row0_col2\" class=\"data row0 col2\" >195</td>\n",
       "                        <td id=\"T_56eb5_row0_col3\" class=\"data row0 col3\" >105</td>\n",
       "                        <td id=\"T_56eb5_row0_col4\" class=\"data row0 col4\" >300</td>\n",
       "                        <td id=\"T_56eb5_row0_col5\" class=\"data row0 col5\" >900</td>\n",
       "            </tr>\n",
       "            <tr>\n",
       "                        <th id=\"T_56eb5_level0_row1\" class=\"row_heading level0 row1\" >bad</th>\n",
       "                        <td id=\"T_56eb5_row1_col0\" class=\"data row1 col0\" >500</td>\n",
       "                        <td id=\"T_56eb5_row1_col1\" class=\"data row1 col1\" >100</td>\n",
       "                        <td id=\"T_56eb5_row1_col2\" class=\"data row1 col2\" >388</td>\n",
       "                        <td id=\"T_56eb5_row1_col3\" class=\"data row1 col3\" >208</td>\n",
       "                        <td id=\"T_56eb5_row1_col4\" class=\"data row1 col4\" >104</td>\n",
       "                        <td id=\"T_56eb5_row1_col5\" class=\"data row1 col5\" >1300</td>\n",
       "            </tr>\n",
       "            <tr>\n",
       "                        <th id=\"T_56eb5_level0_row2\" class=\"row_heading level0 row2\" >m_nice</th>\n",
       "                        <td id=\"T_56eb5_row2_col0\" class=\"data row2 col0\" >370</td>\n",
       "                        <td id=\"T_56eb5_row2_col1\" class=\"data row2 col1\" >28</td>\n",
       "                        <td id=\"T_56eb5_row2_col2\" class=\"data row2 col2\" >250</td>\n",
       "                        <td id=\"T_56eb5_row2_col3\" class=\"data row2 col3\" >146</td>\n",
       "                        <td id=\"T_56eb5_row2_col4\" class=\"data row2 col4\" >270</td>\n",
       "                        <td id=\"T_56eb5_row2_col5\" class=\"data row2 col5\" >1064</td>\n",
       "            </tr>\n",
       "            <tr>\n",
       "                        <th id=\"T_56eb5_level0_row3\" class=\"row_heading level0 row3\" >m_bad</th>\n",
       "                        <td id=\"T_56eb5_row3_col0\" class=\"data row3 col0\" >430</td>\n",
       "                        <td id=\"T_56eb5_row3_col1\" class=\"data row3 col1\" >73</td>\n",
       "                        <td id=\"T_56eb5_row3_col2\" class=\"data row3 col2\" >306</td>\n",
       "                        <td id=\"T_56eb5_row3_col3\" class=\"data row3 col3\" >199</td>\n",
       "                        <td id=\"T_56eb5_row3_col4\" class=\"data row3 col4\" >186</td>\n",
       "                        <td id=\"T_56eb5_row3_col5\" class=\"data row3 col5\" >1194</td>\n",
       "            </tr>\n",
       "            <tr>\n",
       "                        <th id=\"T_56eb5_level0_row4\" class=\"row_heading level0 row4\" >tit_tat</th>\n",
       "                        <td id=\"T_56eb5_row4_col0\" class=\"data row4 col0\" >300</td>\n",
       "                        <td id=\"T_56eb5_row4_col1\" class=\"data row4 col1\" >99</td>\n",
       "                        <td id=\"T_56eb5_row4_col2\" class=\"data row4 col2\" >270</td>\n",
       "                        <td id=\"T_56eb5_row4_col3\" class=\"data row4 col3\" >181</td>\n",
       "                        <td id=\"T_56eb5_row4_col4\" class=\"data row4 col4\" >300</td>\n",
       "                        <td id=\"T_56eb5_row4_col5\" class=\"data row4 col5\" >1150</td>\n",
       "            </tr>\n",
       "    </tbody></table>"
      ],
      "text/plain": [
       "<pandas.io.formats.style.Styler at 0x2526a02a0a0>"
      ]
     },
     "metadata": {},
     "output_type": "display_data"
    }
   ],
   "source": [
    "s = ['nice','bad','m_nice','m_bad','tit_tat']\n",
    "\n",
    "result = np.zeros((len(s),len(s)))\n",
    "for i in range(len(s)):\n",
    "    for j in range(i,len(s)):\n",
    "        p1, p2 = fight(s[i],s[j])\n",
    "        result[i,j] = p1\n",
    "        result[j,i] = p2\n",
    "\n",
    "df = pd.DataFrame(result,dtype=int,columns=s,index=s)\n",
    "\n",
    "def colorcell(x):\n",
    "    data = x.copy()\n",
    "    data.loc[:,:] = ''\n",
    "    for i in range(5):\n",
    "        for j in range(5):\n",
    "            if result[i,j] < result[j,i]: data.iloc[i,j] = 'color : red'\n",
    "            elif result[i,j] > result[j,i]: data.iloc[i,j] = 'color : green'\n",
    "            else: data.iloc[i,j] = 'color : lightblue'\n",
    "    return data\n",
    "\n",
    "sum = np.sum(result, axis=1)\n",
    "df['result'] = sum\n",
    "df = df.astype({'result': int})\n",
    "df = df.style.apply(colorcell,axis=None)\n",
    "\n",
    "display(df)"
   ]
  },
  {
   "cell_type": "code",
   "execution_count": 72,
   "metadata": {},
   "outputs": [],
   "source": [
    "#Point 2)\n",
    "\n",
    "def round_robin(h, ord=False):\n",
    "    N = len(h)\n",
    "    partecipants = [s[i] for i in h] #h ma con i nomi\n",
    "\n",
    "    result = np.zeros((N,N))\n",
    "    somma = np.zeros(N)\n",
    "    for i in range(N):\n",
    "        for j in range(i+1,N):\n",
    "            p1, p2 = fight(partecipants[i],partecipants[j])\n",
    "            result[i,j] = p1\n",
    "            result[j,i] = p2\n",
    "\n",
    "        somma[i] = np.sum(result[i,:])\n",
    "\n",
    "    unique, n_strategies = np.unique(h,return_counts=True)\n",
    "    media = np.zeros(len(unique))\n",
    "\n",
    "    for i in range(N):\n",
    "        val = int(np.argwhere(unique == h[i]))\n",
    "        media[val] += somma[i]\n",
    "\n",
    "    media = media/n_strategies\n",
    "    \n",
    "    if ord == True:\n",
    "        sort = media.argsort()\n",
    "        media = media[sort]\n",
    "        unique = unique[sort]\n",
    "\n",
    "    return unique, media\n"
   ]
  },
  {
   "cell_type": "code",
   "execution_count": 71,
   "metadata": {},
   "outputs": [
    {
     "name": "stdout",
     "output_type": "stream",
     "text": [
      "[1 8 1 1 9]\n",
      "[3000. 2736. 2736. 3000. 3891.]\n"
     ]
    },
    {
     "data": {
      "text/plain": [
       "<BarContainer object of 5 artists>"
      ]
     },
     "execution_count": 71,
     "metadata": {},
     "output_type": "execute_result"
    },
    {
     "data": {
      "image/png": "[encoded data removed]",
      "text/plain": [
       "<Figure size 432x288 with 1 Axes>"
      ]
     },
     "metadata": {
      "needs_background": "light"
     },
     "output_type": "display_data"
    }
   ],
   "source": [
    "#h = npr.randint(0,len(s),size=20)\n",
    "h = np.array([0,1,1,1,2,3,1,1,1,1,1,4,4,4,4,4,4,4,4,4])\n",
    "unique,media = round_robin(h)\n",
    "s_unique = [s[val] for val in unique]\n",
    "print(media)\n",
    "plt.bar(s_unique,media)"
   ]
  },
  {
   "cell_type": "code",
   "execution_count": 28,
   "metadata": {},
   "outputs": [],
   "source": [
    "#Funzionei di update\n",
    "\n",
    "def update_1(N,strat,av): #taglia la testa al toro\n",
    "\n",
    "    h1 = []\n",
    "    perc = np.array([av[i]/np.sum(av) for i in range(len(strat))])\n",
    "\n",
    "    for i in range(len(strat)):\n",
    "        for j in range(int(round(N*perc[i],0))):\n",
    "            h1.append(strat[i])\n",
    "    \n",
    "    while len(h1) != N:\n",
    "        if len(h1) > N: h1.remove(strat[int(np.where(perc == np.min(perc))[0])])\n",
    "        elif len(h1) < N: h1.append(strat[int(np.where(perc == np.max(perc))[0])])\n",
    "\n",
    "    return np.sort(np.array(h1))\n",
    "\n",
    "def update_1rand(N,strat,av): \n",
    "\n",
    "    h1 = []\n",
    "    perc = np.array([av[i]/np.sum(av) for i in range(len(strat))])\n",
    "\n",
    "    for i in range(len(strat)):\n",
    "        for j in range(int(round(N*perc[i],0))):\n",
    "            h1.append(strat[i])\n",
    "    \n",
    "    while len(h1) != N:\n",
    "        if len(h1) > N: h1.remove(strat[int(np.where(perc == np.min(perc))[0])])\n",
    "        elif len(h1) < N: h1.append(strat[int(np.where(perc == np.max(perc))[0])])\n",
    "    \n",
    "    h1[npr.randint(len(h1))] = npr.randint(len(s))\n",
    "\n",
    "    return np.sort(np.array(h1))\n",
    "\n",
    "def update_2(h1,N,strat,av):\n",
    "\n",
    "    for i in range(3):\n",
    "        if len(av)<1:break\n",
    "        else:\n",
    "            if len(strat)<3: w=0\n",
    "            else: w=npr.randint(2)\n",
    "            k=np.where(h1==strat[w])[0]\n",
    "            if len(k)<1:break\n",
    "            else:h1[k[0]]=strat[-w-1]\n",
    "\n",
    "    return np.sort(np.array(h1))\n",
    "\n",
    "update = {'update_1': partial(update_1),\n",
    "        'update_1rand': partial(update_1rand),\n",
    "        'update_2': partial(update_2)}"
   ]
  },
  {
   "cell_type": "code",
   "execution_count": 67,
   "metadata": {},
   "outputs": [],
   "source": [
    "#Punto 3)\n",
    "\n",
    "npr.seed(10)\n",
    "#h = [0,1,1,1,1,1,1,4,4,4,4,4,4]\n",
    "h = npr.randint(0,len(s),size=20)\n",
    "\n",
    "def tournament(h,f,it = None):\n",
    "    \n",
    "    if it == None: it = 100\n",
    "    N = len(h)\n",
    "\n",
    "    n_matrix = np.zeros([it,len(s)])  #matrice per salvare il numero di strat per it\n",
    "    val_matrix = np.zeros([it,len(s)])  #matrice per salvare il punteggio medio di una strat per it\n",
    "    \n",
    "    for i in range(it):\n",
    "        strategies, average_results = round_robin(h)\n",
    "        unique, numbers = np.unique(h, return_counts = True)\n",
    "        numbers_1 = np.array([0 for i in range(len(s))])\n",
    "        average_1 = np.array([0 for i in range(len(s))])\n",
    "\n",
    "        for j in range(len(unique)):\n",
    "            numbers_1[unique[j]] = int(numbers[j])\n",
    "        for j in range(len(strategies)):\n",
    "            average_1[strategies[j]] = average_results[j]\n",
    "\n",
    "        n_matrix[i] = numbers_1\n",
    "        val_matrix[i] = average_1\n",
    "\n",
    "        h = update[f](N,strategies,average_results)\n",
    "\n",
    "    return n_matrix, val_matrix\n",
    "\n",
    "k = 10\n",
    "n_ma, val_ma = tournament(h,'update_1',it=k)\n"
   ]
  },
  {
   "cell_type": "code",
   "execution_count": 68,
   "metadata": {},
   "outputs": [
    {
     "name": "stdout",
     "output_type": "stream",
     "text": [
      "[[21600. 27580. 11032. 10800. 17172.]\n",
      " [15000. 28296. 14148.  6000. 15564.]\n",
      " [ 9600. 27412. 15664.  2400. 13956.]\n",
      " [ 5400. 24928. 15580.     0. 12348.]\n",
      " [ 3000. 24444. 13580.     0. 11544.]\n",
      " [ 1200. 23160. 11580.     0. 10740.]\n",
      " [    0. 19200.  9600.     0. 13425.]\n",
      " [    0. 17316.  9620.     0. 17316.]\n",
      " [    0. 15456.  7728.     0. 26304.]\n",
      " [    0. 11664.  5832.     0. 42801.]]\n"
     ]
    },
    {
     "data": {
      "image/png": "[encoded data removed]",
      "text/plain": [
       "<Figure size 1080x432 with 2 Axes>"
      ]
     },
     "metadata": {
      "needs_background": "light"
     },
     "output_type": "display_data"
    }
   ],
   "source": [
    "print(val_ma)\n",
    "\n",
    "fig, (ax1,ax2) = plt.subplots(nrows=1,ncols=2,figsize=(15,6))\n",
    "\n",
    "for i in range(len(s)):\n",
    "    ax1.plot(np.arange(k),n_ma.T[i],label=s[i])\n",
    "    ax1.set_title('Population')\n",
    "    ax2.plot(np.arange(k),val_ma.T[i],label=s[i])\n",
    "    ax2.set_title('Average points')\n",
    "    ax1.legend()\n",
    "    ax2.legend()\n",
    "plt.show()"
   ]
  },
  {
   "cell_type": "code",
   "execution_count": null,
   "metadata": {},
   "outputs": [],
   "source": []
  }
 ],
 "metadata": {
  "kernelspec": {
   "display_name": "Python 3",
   "language": "python",
   "name": "python3"
  },
  "language_info": {
   "codemirror_mode": {
    "name": "ipython",
    "version": 3
   },
   "file_extension": ".py",
   "mimetype": "text/x-python",
   "name": "python",
   "nbconvert_exporter": "python",
   "pygments_lexer": "ipython3",
   "version": "3.8.8"
  }
 },
 "nbformat": 4,
 "nbformat_minor": 2
}
