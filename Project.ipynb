{
 "cells": [
  {
   "cell_type": "markdown",
   "metadata": {},
   "source": [
    "# Iterative Prisoner's Dilemma\n",
    "\n",
    "\n",
    "### Description\n",
    "\n",
    "The [Prisoner's Dilemma](https://en.wikipedia.org/wiki/Prisoner%27s_dilemma) (PD) is a classical game analyzed in game theory, which is widely used to (attempt to) model social/economical interaction. It's a \"dilemma\" as, if exploited to explain the emergence of altruism in human or in general animal society, it fails badly at a first glance.\n",
    "\n",
    "The classical situation-representation of the PD is that of two prisoners whose conviction depends on their mutual cooperation. It is easier understood though if illustrated in terms of a trade-off game (closed bag exachange):\n",
    "\n",
    "*Two people meet and exchange closed bags, with the understanding that one of them contains money, and the other contains a purchase. Either player can choose to honor the deal by putting into his or her bag what he or she agreed, or he or she can defect by handing over an empty bag.*\n",
    "\n",
    "It is obvious that for both players the winning strategy is to NOT cooperate.\n",
    "\n",
    "Things changes when the interaction between the two individuals is iterated, in that case a more altruist attitude (strategy) is expected to emerge. The goal of this project is to test this hypothesis.\n",
    "\n",
    "Mathematically the PD can be expressed with very basic linear algebra. The key component is the **Payoff matrix** $M$, which quantify the reward each player gets depending on whether she cooperated or not (defect):\n",
    "\n",
    "$$\n",
    "M = \n",
    "\\begin{pmatrix} \n",
    "R & S \\\\\n",
    "T & P \n",
    "\\end{pmatrix}\n",
    "$$\n",
    "\n",
    "with $T,R,S,P$ integers that satisfy the following conditions:\n",
    "\n",
    "$$\n",
    "T>R>P>S; \\quad 2R > T+S\n",
    "$$\n",
    "\n",
    "for example $T=3$, $R=2$, $P=1$ and $S=0$, or  $T=5$, $R=3$, $P=2$, $S=0$. Each player choice (move) can be represented by one of the two axis in ${\\rm I\\!R}^2$, i.e. $u_C=\\begin{pmatrix} 1 \\\\ 0 \\end{pmatrix}$ or $u_D=\\begin{pmatrix} 0 \\\\ 1 \\end{pmatrix}$, where the first coordinate stands for *Cooperate* and the second for *Defect*. Being $u_1$ and $u_2$ their rewards $r_1$ and $r_2$ can be computed then as:\n",
    "\n",
    "$$\n",
    "r_1 = u_1^T M u_2\n",
    "\\quad\n",
    "\\quad\n",
    "r_2 = u_2^T M u_1\n",
    "$$\n",
    "\n",
    "In an Iterative Prisoner's Dilemma (IPD), two players play prisoner's dilemma more than once in succession and they remember previous actions of their opponent and change their strategy accordingly. The winning strategy is the one which yields to a larger reward at the end of the IPD.\n",
    "\n",
    "The strategy can be represented as a function which outputs either $u_C$ or $u_D$. Such function can depend on the opponent's history of moves, her on history of moves, on the number of moves played till that moment and so on, but it can only be based on a probability density function. Possible strategies are:\n",
    "\n",
    "* **Nice guy**: always cooperate (the function's output is always $u_D$)\n",
    "* **Bad guy**: always defect \n",
    "* **Mainly nice**: randomly defect $k\\%$ of the times and cooperate $100-k\\%$, $k<50$\n",
    "* **Mainly bad**: randomly defect $k\\%$ of the times and cooperate $100-k\\%$, $k>50$\n",
    "* **tit-for-tat**: start by cooperating, then repeat what the opponent has done in the previous move \n",
    "\n",
    "Many more and much more complex strategies can be implemented. The strategy can even change during the IPD.\n",
    "\n",
    "\n",
    "### Assignments\n",
    "\n",
    "* Implement a simple IPD between two players implementing two given strategies. Study the evolution along the tournament confronting different strategies; study the overall outcome in the different configurations. \n",
    "* Implement a multiple players IPD (MPIPD) where several strategies play against each other in a roud-robin scheme\n",
    "* Iterate what done in the previous task (repeated MPIPD, rMPIPD)  by increasing the population implementing a given strategy depending on the results that strategy achieved in the previous iteration\n",
    "* (*difficult*) Implement a rMPIPD where strategies are allowed to mutate. The goal is to simulate the effect of genetic mutations and the effect of natura selection. A parameter (gene) should encode the attidue of an individual to cooperate, such gene can mutate randomly and the corresponding phenotype should compete in the MPIPD such that the best-fitted is determined.  \n"
   ]
  },
  {
   "cell_type": "code",
   "execution_count": 1,
   "metadata": {},
   "outputs": [],
   "source": [
    "import numpy as np\n",
    "import numpy.random as npr\n",
    "import matplotlib.pyplot as plt\n",
    "import pandas as pd\n",
    "from IPython.display import display\n",
    "import it_pris_dil_func as pris_dil"
   ]
  },
  {
   "cell_type": "code",
   "execution_count": 2,
   "metadata": {},
   "outputs": [
    {
     "name": "stdout",
     "output_type": "stream",
     "text": [
      "[0 3 4 4 1 4 1 0 2 1 4 1 1 4 3 1 1 2 0 1 0 2 2 2 4 1 4 3 0 4]\n"
     ]
    },
    {
     "ename": "IndexError",
     "evalue": "too many indices for array: array is 1-dimensional, but 2 were indexed",
     "output_type": "error",
     "traceback": [
      "\u001b[1;31m---------------------------------------------------------------------------\u001b[0m",
      "\u001b[1;31mIndexError\u001b[0m                                Traceback (most recent call last)",
      "\u001b[1;32m<ipython-input-2-6d9dd7c9de6e>\u001b[0m in \u001b[0;36m<module>\u001b[1;34m\u001b[0m\n\u001b[0;32m     10\u001b[0m \u001b[1;33m\u001b[0m\u001b[0m\n\u001b[0;32m     11\u001b[0m \u001b[0mk\u001b[0m \u001b[1;33m=\u001b[0m \u001b[1;36m20\u001b[0m\u001b[1;33m\u001b[0m\u001b[1;33m\u001b[0m\u001b[0m\n\u001b[1;32m---> 12\u001b[1;33m \u001b[0mn_ma\u001b[0m\u001b[1;33m,\u001b[0m \u001b[0mval_ma\u001b[0m \u001b[1;33m=\u001b[0m \u001b[0mpris_dil\u001b[0m\u001b[1;33m.\u001b[0m\u001b[0mtournament\u001b[0m\u001b[1;33m(\u001b[0m\u001b[0mh\u001b[0m\u001b[1;33m,\u001b[0m\u001b[1;34m'update_2'\u001b[0m\u001b[1;33m,\u001b[0m\u001b[0ms\u001b[0m\u001b[1;33m,\u001b[0m\u001b[0mit\u001b[0m\u001b[1;33m=\u001b[0m\u001b[0mk\u001b[0m\u001b[1;33m)\u001b[0m\u001b[1;33m\u001b[0m\u001b[1;33m\u001b[0m\u001b[0m\n\u001b[0m",
      "\u001b[1;32mc:\\Users\\PC\\Documents\\UniPd\\prisoner_dilemma\\it_pris_dil_func.py\u001b[0m in \u001b[0;36mtournament\u001b[1;34m(h, f, s, it)\u001b[0m\n\u001b[0;32m    155\u001b[0m         \u001b[1;32mfor\u001b[0m \u001b[0mj\u001b[0m \u001b[1;32min\u001b[0m \u001b[0mrange\u001b[0m\u001b[1;33m(\u001b[0m\u001b[0mlen\u001b[0m\u001b[1;33m(\u001b[0m\u001b[0munique\u001b[0m\u001b[1;33m.\u001b[0m\u001b[0mT\u001b[0m\u001b[1;33m)\u001b[0m\u001b[1;33m)\u001b[0m\u001b[1;33m:\u001b[0m\u001b[1;33m\u001b[0m\u001b[1;33m\u001b[0m\u001b[0m\n\u001b[0;32m    156\u001b[0m             \u001b[1;32mfor\u001b[0m \u001b[0mk\u001b[0m \u001b[1;32min\u001b[0m \u001b[0mrange\u001b[0m\u001b[1;33m(\u001b[0m\u001b[0mlen\u001b[0m\u001b[1;33m(\u001b[0m\u001b[0ms_ref\u001b[0m\u001b[1;33m)\u001b[0m\u001b[1;33m)\u001b[0m\u001b[1;33m:\u001b[0m\u001b[1;33m\u001b[0m\u001b[1;33m\u001b[0m\u001b[0m\n\u001b[1;32m--> 157\u001b[1;33m                 \u001b[1;32mif\u001b[0m \u001b[0mnp\u001b[0m\u001b[1;33m.\u001b[0m\u001b[0mall\u001b[0m\u001b[1;33m(\u001b[0m\u001b[0ms_ref\u001b[0m\u001b[1;33m[\u001b[0m\u001b[0mk\u001b[0m\u001b[1;33m]\u001b[0m \u001b[1;33m==\u001b[0m \u001b[0munique\u001b[0m\u001b[1;33m[\u001b[0m\u001b[1;33m:\u001b[0m\u001b[1;33m,\u001b[0m\u001b[0mj\u001b[0m\u001b[1;33m]\u001b[0m\u001b[1;33m)\u001b[0m\u001b[1;33m:\u001b[0m\u001b[1;33m\u001b[0m\u001b[1;33m\u001b[0m\u001b[0m\n\u001b[0m\u001b[0;32m    158\u001b[0m                     \u001b[0mind\u001b[0m \u001b[1;33m=\u001b[0m \u001b[0mk\u001b[0m\u001b[1;33m\u001b[0m\u001b[1;33m\u001b[0m\u001b[0m\n\u001b[0;32m    159\u001b[0m             \u001b[0mnumbers_1\u001b[0m\u001b[1;33m[\u001b[0m\u001b[0mind\u001b[0m\u001b[1;33m]\u001b[0m \u001b[1;33m=\u001b[0m \u001b[0mint\u001b[0m\u001b[1;33m(\u001b[0m\u001b[0mnumbers\u001b[0m\u001b[1;33m[\u001b[0m\u001b[0mj\u001b[0m\u001b[1;33m]\u001b[0m\u001b[1;33m)\u001b[0m\u001b[1;33m\u001b[0m\u001b[1;33m\u001b[0m\u001b[0m\n",
      "\u001b[1;31mIndexError\u001b[0m: too many indices for array: array is 1-dimensional, but 2 were indexed"
     ]
    }
   ],
   "source": [
    "s = ['nice','bad','m_nice','m_bad','tit_tat']\n",
    "\n",
    "n_players = 30\n",
    "h = npr.randint(0,len(s),size=n_players)\n",
    "#h = np.zeros((2,n_players))\n",
    "#h[0] = npr.randint(0,len(s),size=n_players)\n",
    "unique, n_strategies = np.unique(h,return_counts=True)\n",
    "\n",
    "print(h)\n",
    "\n",
    "k = 20\n",
    "n_ma, val_ma = pris_dil.tournament(h,'update_2',s,it=k)\n"
   ]
  },
  {
   "cell_type": "code",
   "execution_count": 7,
   "metadata": {},
   "outputs": [
    {
     "name": "stdout",
     "output_type": "stream",
     "text": [
      "(20, 25)\n",
      "26\n"
     ]
    }
   ],
   "source": [
    "print(np.shape(n_ma))\n",
    "print(len(s))"
   ]
  },
  {
   "cell_type": "code",
   "execution_count": 3,
   "metadata": {},
   "outputs": [
    {
     "data": {
      "image/png": "[encoded data removed]",
      "text/plain": [
       "<Figure size 1080x360 with 2 Axes>"
      ]
     },
     "metadata": {
      "needs_background": "light"
     },
     "output_type": "display_data"
    }
   ],
   "source": [
    "fig, (ax1,ax2) = plt.subplots(nrows=1,ncols=2,figsize=(15,5))\n",
    "\n",
    "for i in range(len(n_ma.T)):\n",
    "    ax1.plot(np.arange(k),n_ma.T[i],label=s[i])\n",
    "    ax1.set_title('Population')\n",
    "    ax2.plot(np.arange(k),val_ma.T[i],label=s[i])\n",
    "    ax2.set_title('Average points')\n",
    "    ax1.legend()\n",
    "    ax2.legend()\n",
    "plt.show()"
   ]
  },
  {
   "cell_type": "code",
   "execution_count": 6,
   "metadata": {},
   "outputs": [
    {
     "data": {
      "text/html": [
       "<style  type=\"text/css\" >\n",
       "#T_b0279_row0_col0,#T_b0279_row0_col4,#T_b0279_row1_col1,#T_b0279_row2_col2,#T_b0279_row2_col4,#T_b0279_row3_col3,#T_b0279_row4_col0,#T_b0279_row4_col2,#T_b0279_row4_col4{\n",
       "            color :  lightblue;\n",
       "        }#T_b0279_row0_col1,#T_b0279_row0_col2,#T_b0279_row0_col3,#T_b0279_row2_col1,#T_b0279_row2_col3,#T_b0279_row3_col1,#T_b0279_row4_col1,#T_b0279_row4_col3{\n",
       "            color :  red;\n",
       "        }#T_b0279_row1_col0,#T_b0279_row1_col2,#T_b0279_row1_col3,#T_b0279_row1_col4,#T_b0279_row2_col0,#T_b0279_row3_col0,#T_b0279_row3_col2,#T_b0279_row3_col4{\n",
       "            color :  green;\n",
       "        }</style><table id=\"T_b0279_\" ><thead>    <tr>        <th class=\"blank level0\" ></th>        <th class=\"col_heading level0 col0\" >nice</th>        <th class=\"col_heading level0 col1\" >bad</th>        <th class=\"col_heading level0 col2\" >m_nice</th>        <th class=\"col_heading level0 col3\" >m_bad</th>        <th class=\"col_heading level0 col4\" >tit_tat</th>        <th class=\"col_heading level0 col5\" >result</th>    </tr></thead><tbody>\n",
       "                <tr>\n",
       "                        <th id=\"T_b0279_level0_row0\" class=\"row_heading level0 row0\" >nice</th>\n",
       "                        <td id=\"T_b0279_row0_col0\" class=\"data row0 col0\" >300</td>\n",
       "                        <td id=\"T_b0279_row0_col1\" class=\"data row0 col1\" >0</td>\n",
       "                        <td id=\"T_b0279_row0_col2\" class=\"data row0 col2\" >183</td>\n",
       "                        <td id=\"T_b0279_row0_col3\" class=\"data row0 col3\" >90</td>\n",
       "                        <td id=\"T_b0279_row0_col4\" class=\"data row0 col4\" >300</td>\n",
       "                        <td id=\"T_b0279_row0_col5\" class=\"data row0 col5\" >873</td>\n",
       "            </tr>\n",
       "            <tr>\n",
       "                        <th id=\"T_b0279_level0_row1\" class=\"row_heading level0 row1\" >bad</th>\n",
       "                        <td id=\"T_b0279_row1_col0\" class=\"data row1 col0\" >500</td>\n",
       "                        <td id=\"T_b0279_row1_col1\" class=\"data row1 col1\" >100</td>\n",
       "                        <td id=\"T_b0279_row1_col2\" class=\"data row1 col2\" >404</td>\n",
       "                        <td id=\"T_b0279_row1_col3\" class=\"data row1 col3\" >204</td>\n",
       "                        <td id=\"T_b0279_row1_col4\" class=\"data row1 col4\" >104</td>\n",
       "                        <td id=\"T_b0279_row1_col5\" class=\"data row1 col5\" >1312</td>\n",
       "            </tr>\n",
       "            <tr>\n",
       "                        <th id=\"T_b0279_level0_row2\" class=\"row_heading level0 row2\" >m_nice</th>\n",
       "                        <td id=\"T_b0279_row2_col0\" class=\"data row2 col0\" >378</td>\n",
       "                        <td id=\"T_b0279_row2_col1\" class=\"data row2 col1\" >24</td>\n",
       "                        <td id=\"T_b0279_row2_col2\" class=\"data row2 col2\" >242</td>\n",
       "                        <td id=\"T_b0279_row2_col3\" class=\"data row2 col3\" >137</td>\n",
       "                        <td id=\"T_b0279_row2_col4\" class=\"data row2 col4\" >261</td>\n",
       "                        <td id=\"T_b0279_row2_col5\" class=\"data row2 col5\" >1042</td>\n",
       "            </tr>\n",
       "            <tr>\n",
       "                        <th id=\"T_b0279_level0_row3\" class=\"row_heading level0 row3\" >m_bad</th>\n",
       "                        <td id=\"T_b0279_row3_col0\" class=\"data row3 col0\" >440</td>\n",
       "                        <td id=\"T_b0279_row3_col1\" class=\"data row3 col1\" >74</td>\n",
       "                        <td id=\"T_b0279_row3_col2\" class=\"data row3 col2\" >312</td>\n",
       "                        <td id=\"T_b0279_row3_col3\" class=\"data row3 col3\" >170</td>\n",
       "                        <td id=\"T_b0279_row3_col4\" class=\"data row3 col4\" >170</td>\n",
       "                        <td id=\"T_b0279_row3_col5\" class=\"data row3 col5\" >1166</td>\n",
       "            </tr>\n",
       "            <tr>\n",
       "                        <th id=\"T_b0279_level0_row4\" class=\"row_heading level0 row4\" >tit_tat</th>\n",
       "                        <td id=\"T_b0279_row4_col0\" class=\"data row4 col0\" >300</td>\n",
       "                        <td id=\"T_b0279_row4_col1\" class=\"data row4 col1\" >99</td>\n",
       "                        <td id=\"T_b0279_row4_col2\" class=\"data row4 col2\" >261</td>\n",
       "                        <td id=\"T_b0279_row4_col3\" class=\"data row4 col3\" >165</td>\n",
       "                        <td id=\"T_b0279_row4_col4\" class=\"data row4 col4\" >300</td>\n",
       "                        <td id=\"T_b0279_row4_col5\" class=\"data row4 col5\" >1125</td>\n",
       "            </tr>\n",
       "    </tbody></table>"
      ],
      "text/plain": [
       "<pandas.io.formats.style.Styler at 0x1527f8ca310>"
      ]
     },
     "metadata": {},
     "output_type": "display_data"
    }
   ],
   "source": [
    "#Point 1)\n",
    "\n",
    "s = ['nice','bad','m_nice','m_bad','tit_tat']\n",
    "\n",
    "result = np.zeros((len(s),len(s)))\n",
    "for i in range(len(s)):\n",
    "    for j in range(i,len(s)):\n",
    "        p1, p2 = pris_dil.fight(s[i],s[j])\n",
    "        result[i,j] = p1\n",
    "        result[j,i] = p2\n",
    "\n",
    "df = pd.DataFrame(result,dtype=int,columns=s,index=s)\n",
    "\n",
    "#Rappresentazione risultati\n",
    "def colorcell(x):\n",
    "    data = x.copy()\n",
    "    data.loc[:,:] = ''\n",
    "    for i in range(5):\n",
    "        for j in range(5):\n",
    "            if result[i,j] < result[j,i]: data.iloc[i,j] = 'color : red'\n",
    "            elif result[i,j] > result[j,i]: data.iloc[i,j] = 'color : green'\n",
    "            else: data.iloc[i,j] = 'color : lightblue'\n",
    "    return data\n",
    "\n",
    "sum = np.sum(result, axis=1)\n",
    "df['result'] = sum\n",
    "df = df.astype({'result': int})\n",
    "df = df.style.apply(colorcell,axis=None)\n",
    "\n",
    "display(df)"
   ]
  },
  {
   "cell_type": "code",
   "execution_count": 7,
   "metadata": {},
   "outputs": [
    {
     "name": "stdout",
     "output_type": "stream",
     "text": [
      "nice 2\n",
      "bad 1\n",
      "m_nice 1\n",
      "m_bad 5\n",
      "tit_tat 1\n"
     ]
    },
    {
     "data": {
      "image/png": "[encoded data removed]",
      "text/plain": [
       "<Figure size 432x288 with 1 Axes>"
      ]
     },
     "metadata": {
      "needs_background": "light"
     },
     "output_type": "display_data"
    }
   ],
   "source": [
    "#Point 2)\n",
    "\n",
    "s = ['nice','bad','m_nice','m_bad','tit_tat']\n",
    "\n",
    "h = npr.randint(0,len(s),size=10)\n",
    "#h = [0,1,1,1,2,3,1,1,1,1,1,4,4,4,4,4,4,4,4,4]\n",
    "unique, n_strategies = np.unique(h,return_counts=True)\n",
    "\n",
    "for a,b in zip(unique,n_strategies): print(s[a],b)\n",
    "\n",
    "unique, media = pris_dil.round_robin(h,s,ord=True)\n",
    "\n",
    "s_unique = [s[val] for val in unique]\n",
    "plt.bar(s_unique,media);"
   ]
  },
  {
   "cell_type": "code",
   "execution_count": 8,
   "metadata": {},
   "outputs": [
    {
     "name": "stdout",
     "output_type": "stream",
     "text": [
      "nice 6\n",
      "bad 9\n",
      "m_nice 4\n",
      "m_bad 3\n",
      "tit_tat 8\n"
     ]
    },
    {
     "ename": "AxisError",
     "evalue": "axis 1 is out of bounds for array of dimension 1",
     "output_type": "error",
     "traceback": [
      "\u001b[1;31m---------------------------------------------------------------------------\u001b[0m",
      "\u001b[1;31mAxisError\u001b[0m                                 Traceback (most recent call last)",
      "\u001b[1;32m<ipython-input-8-b641b15f57a3>\u001b[0m in \u001b[0;36m<module>\u001b[1;34m\u001b[0m\n\u001b[0;32m      8\u001b[0m \u001b[1;33m\u001b[0m\u001b[0m\n\u001b[0;32m      9\u001b[0m \u001b[0mk\u001b[0m \u001b[1;33m=\u001b[0m \u001b[1;36m20\u001b[0m\u001b[1;33m\u001b[0m\u001b[1;33m\u001b[0m\u001b[0m\n\u001b[1;32m---> 10\u001b[1;33m \u001b[0mn_ma\u001b[0m\u001b[1;33m,\u001b[0m \u001b[0mval_ma\u001b[0m \u001b[1;33m=\u001b[0m \u001b[0mpris_dil\u001b[0m\u001b[1;33m.\u001b[0m\u001b[0mtournament\u001b[0m\u001b[1;33m(\u001b[0m\u001b[0mh\u001b[0m\u001b[1;33m,\u001b[0m\u001b[1;34m'update_2'\u001b[0m\u001b[1;33m,\u001b[0m\u001b[0ms\u001b[0m\u001b[1;33m,\u001b[0m\u001b[0mit\u001b[0m\u001b[1;33m=\u001b[0m\u001b[0mk\u001b[0m\u001b[1;33m)\u001b[0m\u001b[1;33m\u001b[0m\u001b[1;33m\u001b[0m\u001b[0m\n\u001b[0m\u001b[0;32m     11\u001b[0m \u001b[1;33m\u001b[0m\u001b[0m\n\u001b[0;32m     12\u001b[0m \u001b[0mfig\u001b[0m\u001b[1;33m,\u001b[0m \u001b[1;33m(\u001b[0m\u001b[0max1\u001b[0m\u001b[1;33m,\u001b[0m\u001b[0max2\u001b[0m\u001b[1;33m)\u001b[0m \u001b[1;33m=\u001b[0m \u001b[0mplt\u001b[0m\u001b[1;33m.\u001b[0m\u001b[0msubplots\u001b[0m\u001b[1;33m(\u001b[0m\u001b[0mnrows\u001b[0m\u001b[1;33m=\u001b[0m\u001b[1;36m1\u001b[0m\u001b[1;33m,\u001b[0m\u001b[0mncols\u001b[0m\u001b[1;33m=\u001b[0m\u001b[1;36m2\u001b[0m\u001b[1;33m,\u001b[0m\u001b[0mfigsize\u001b[0m\u001b[1;33m=\u001b[0m\u001b[1;33m(\u001b[0m\u001b[1;36m15\u001b[0m\u001b[1;33m,\u001b[0m\u001b[1;36m5\u001b[0m\u001b[1;33m)\u001b[0m\u001b[1;33m)\u001b[0m\u001b[1;33m\u001b[0m\u001b[1;33m\u001b[0m\u001b[0m\n",
      "\u001b[1;32mc:\\Users\\PC\\Documents\\UniPd\\prisoner_dilemma\\it_pris_dil_func.py\u001b[0m in \u001b[0;36mtournament\u001b[1;34m(h, f, s, it)\u001b[0m\n\u001b[0;32m    143\u001b[0m     \u001b[1;32mfor\u001b[0m \u001b[0mi\u001b[0m \u001b[1;32min\u001b[0m \u001b[0mrange\u001b[0m\u001b[1;33m(\u001b[0m\u001b[0mit\u001b[0m\u001b[1;33m)\u001b[0m\u001b[1;33m:\u001b[0m\u001b[1;33m\u001b[0m\u001b[1;33m\u001b[0m\u001b[0m\n\u001b[0;32m    144\u001b[0m         \u001b[0mstrategies\u001b[0m\u001b[1;33m,\u001b[0m \u001b[0maverage_results\u001b[0m \u001b[1;33m=\u001b[0m \u001b[0mround_robin\u001b[0m\u001b[1;33m(\u001b[0m\u001b[0mh\u001b[0m\u001b[1;33m,\u001b[0m\u001b[0ms\u001b[0m\u001b[1;33m)\u001b[0m\u001b[1;33m\u001b[0m\u001b[1;33m\u001b[0m\u001b[0m\n\u001b[1;32m--> 145\u001b[1;33m         \u001b[0munique\u001b[0m\u001b[1;33m,\u001b[0m \u001b[0mnumbers\u001b[0m \u001b[1;33m=\u001b[0m \u001b[0mnp\u001b[0m\u001b[1;33m.\u001b[0m\u001b[0munique\u001b[0m\u001b[1;33m(\u001b[0m\u001b[0mh\u001b[0m\u001b[1;33m,\u001b[0m \u001b[0mreturn_counts\u001b[0m \u001b[1;33m=\u001b[0m \u001b[1;32mTrue\u001b[0m\u001b[1;33m,\u001b[0m \u001b[0maxis\u001b[0m\u001b[1;33m=\u001b[0m\u001b[1;36m1\u001b[0m\u001b[1;33m)\u001b[0m\u001b[1;33m\u001b[0m\u001b[1;33m\u001b[0m\u001b[0m\n\u001b[0m\u001b[0;32m    146\u001b[0m \u001b[1;33m\u001b[0m\u001b[0m\n\u001b[0;32m    147\u001b[0m         \u001b[1;32mfor\u001b[0m \u001b[0mj\u001b[0m \u001b[1;32min\u001b[0m \u001b[0mrange\u001b[0m\u001b[1;33m(\u001b[0m\u001b[0mnew_strat\u001b[0m\u001b[1;33m)\u001b[0m\u001b[1;33m:\u001b[0m\u001b[1;33m\u001b[0m\u001b[1;33m\u001b[0m\u001b[0m\n",
      "\u001b[1;32m<__array_function__ internals>\u001b[0m in \u001b[0;36munique\u001b[1;34m(*args, **kwargs)\u001b[0m\n",
      "\u001b[1;32m~\\anaconda3\\lib\\site-packages\\numpy\\lib\\arraysetops.py\u001b[0m in \u001b[0;36munique\u001b[1;34m(ar, return_index, return_inverse, return_counts, axis)\u001b[0m\n\u001b[0;32m    268\u001b[0m     \u001b[1;32mexcept\u001b[0m \u001b[0mnp\u001b[0m\u001b[1;33m.\u001b[0m\u001b[0mAxisError\u001b[0m\u001b[1;33m:\u001b[0m\u001b[1;33m\u001b[0m\u001b[1;33m\u001b[0m\u001b[0m\n\u001b[0;32m    269\u001b[0m         \u001b[1;31m# this removes the \"axis1\" or \"axis2\" prefix from the error message\u001b[0m\u001b[1;33m\u001b[0m\u001b[1;33m\u001b[0m\u001b[1;33m\u001b[0m\u001b[0m\n\u001b[1;32m--> 270\u001b[1;33m         \u001b[1;32mraise\u001b[0m \u001b[0mnp\u001b[0m\u001b[1;33m.\u001b[0m\u001b[0mAxisError\u001b[0m\u001b[1;33m(\u001b[0m\u001b[0maxis\u001b[0m\u001b[1;33m,\u001b[0m \u001b[0mar\u001b[0m\u001b[1;33m.\u001b[0m\u001b[0mndim\u001b[0m\u001b[1;33m)\u001b[0m \u001b[1;32mfrom\u001b[0m \u001b[1;32mNone\u001b[0m\u001b[1;33m\u001b[0m\u001b[1;33m\u001b[0m\u001b[0m\n\u001b[0m\u001b[0;32m    271\u001b[0m \u001b[1;33m\u001b[0m\u001b[0m\n\u001b[0;32m    272\u001b[0m     \u001b[1;31m# Must reshape to a contiguous 2D array for this to work...\u001b[0m\u001b[1;33m\u001b[0m\u001b[1;33m\u001b[0m\u001b[1;33m\u001b[0m\u001b[0m\n",
      "\u001b[1;31mAxisError\u001b[0m: axis 1 is out of bounds for array of dimension 1"
     ]
    }
   ],
   "source": [
    "#Point 3)\n",
    "\n",
    "s = ['nice','bad','m_nice','m_bad','tit_tat']\n",
    "\n",
    "#h = [0,1,1,1,1,1,1,4,4,4,4,4,4]\n",
    "h = npr.randint(0,len(s),size=30)\n",
    "unique, n_strategies = np.unique(h,return_counts=True)\n",
    "\n",
    "for a,b in zip(unique,n_strategies): print(s[a],b)\n",
    "\n",
    "k = 20\n",
    "n_ma, val_ma = pris_dil.tournament(h,'update_2',s,it=k)\n",
    "\n",
    "fig, (ax1,ax2) = plt.subplots(nrows=1,ncols=2,figsize=(15,5))\n",
    "\n",
    "for i in range(len(s)):\n",
    "    ax1.plot(np.arange(k),n_ma.T[i],label=s[i])\n",
    "    ax1.set_title('Population')\n",
    "    ax2.plot(np.arange(k),val_ma.T[i],label=s[i])\n",
    "    ax2.set_title('Average points')\n",
    "    ax1.legend()\n",
    "    ax2.legend()\n",
    "plt.show()\n"
   ]
  },
  {
   "cell_type": "code",
   "execution_count": null,
   "metadata": {},
   "outputs": [],
   "source": []
  }
 ],
 "metadata": {
  "kernelspec": {
   "display_name": "Python 3",
   "language": "python",
   "name": "python3"
  },
  "language_info": {
   "codemirror_mode": {
    "name": "ipython",
    "version": 3
   },
   "file_extension": ".py",
   "mimetype": "text/x-python",
   "name": "python",
   "nbconvert_exporter": "python",
   "pygments_lexer": "ipython3",
   "version": "3.8.8"
  }
 },
 "nbformat": 4,
 "nbformat_minor": 2
}
