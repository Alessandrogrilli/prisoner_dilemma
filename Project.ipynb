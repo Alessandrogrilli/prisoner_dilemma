{
 "cells": [
  {
   "cell_type": "markdown",
   "metadata": {},
   "source": [
    "# Iterative Prisoner's Dilemma\n",
    "\n",
    "\n",
    "### Description\n",
    "\n",
    "The [Prisoner's Dilemma](https://en.wikipedia.org/wiki/Prisoner%27s_dilemma) (PD) is a classical game analyzed in game theory, which is widely used to (attempt to) model social/economical interaction. It's a \"dilemma\" as, if exploited to explain the emergence of altruism in human or in general animal society, it fails badly at a first glance.\n",
    "\n",
    "The classical situation-representation of the PD is that of two prisoners whose conviction depends on their mutual cooperation. It is easier understood though if illustrated in terms of a trade-off game (closed bag exachange):\n",
    "\n",
    "*Two people meet and exchange closed bags, with the understanding that one of them contains money, and the other contains a purchase. Either player can choose to honor the deal by putting into his or her bag what he or she agreed, or he or she can defect by handing over an empty bag.*\n",
    "\n",
    "It is obvious that for both players the winning strategy is to NOT cooperate.\n",
    "\n",
    "Things changes when the interaction between the two individuals is iterated, in that case a more altruist attitude (strategy) is expected to emerge. The goal of this project is to test this hypothesis.\n",
    "\n",
    "Mathematically the PD can be expressed with very basic linear algebra. The key component is the **Payoff matrix** $M$, which quantify the reward each player gets depending on whether she cooperated or not (defect):\n",
    "\n",
    "$$\n",
    "M = \n",
    "\\begin{pmatrix} \n",
    "R & S \\\\\n",
    "T & P \n",
    "\\end{pmatrix}\n",
    "$$\n",
    "\n",
    "with $T,R,S,P$ integers that satisfy the following conditions:\n",
    "\n",
    "$$\n",
    "T>R>P>S; \\quad 2R > T+S\n",
    "$$\n",
    "\n",
    "for example $T=3$, $R=2$, $P=1$ and $S=0$, or  $T=5$, $R=3$, $P=2$, $S=0$. Each player choice (move) can be represented by one of the two axis in ${\\rm I\\!R}^2$, i.e. $u_C=\\begin{pmatrix} 1 \\\\ 0 \\end{pmatrix}$ or $u_D=\\begin{pmatrix} 0 \\\\ 1 \\end{pmatrix}$, where the first coordinate stands for *Cooperate* and the second for *Defect*. Being $u_1$ and $u_2$ their rewards $r_1$ and $r_2$ can be computed then as:\n",
    "\n",
    "$$\n",
    "r_1 = u_1^T M u_2\n",
    "\\quad\n",
    "\\quad\n",
    "r_2 = u_2^T M u_1\n",
    "$$\n",
    "\n",
    "In an Iterative Prisoner's Dilemma (IPD), two players play prisoner's dilemma more than once in succession and they remember previous actions of their opponent and change their strategy accordingly. The winning strategy is the one which yields to a larger reward at the end of the IPD.\n",
    "\n",
    "The strategy can be represented as a function which outputs either $u_C$ or $u_D$. Such function can depend on the opponent's history of moves, her on history of moves, on the number of moves played till that moment and so on, but it can only be based on a probability density function. Possible strategies are:\n",
    "\n",
    "* **Nice guy**: always cooperate (the function's output is always $u_D$)\n",
    "* **Bad guy**: always defect \n",
    "* **Mainly nice**: randomly defect $k\\%$ of the times and cooperate $100-k\\%$, $k<50$\n",
    "* **Mainly bad**: randomly defect $k\\%$ of the times and cooperate $100-k\\%$, $k>50$\n",
    "* **tit-for-tat**: start by cooperating, then repeat what the opponent has done in the previous move \n",
    "\n",
    "Many more and much more complex strategies can be implemented. The strategy can even change during the IPD.\n",
    "\n",
    "\n",
    "### Assignments\n",
    "\n",
    "* Implement a simple IPD between two players implementing two given strategies. Study the evolution along the tournament confronting different strategies; study the overall outcome in the different configurations. \n",
    "* Implement a multiple players IPD (MPIPD) where several strategies play against each other in a roud-robin scheme\n",
    "* Iterate what done in the previous task (repeated MPIPD, rMPIPD)  by increasing the population implementing a given strategy depending on the results that strategy achieved in the previous iteration\n",
    "* (*difficult*) Implement a rMPIPD where strategies are allowed to mutate. The goal is to simulate the effect of genetic mutations and the effect of natura selection. A parameter (gene) should encode the attidue of an individual to cooperate, such gene can mutate randomly and the corresponding phenotype should compete in the MPIPD such that the best-fitted is determined.  \n"
   ]
  },
  {
   "cell_type": "code",
   "execution_count": 1,
   "metadata": {},
   "outputs": [],
   "source": [
    "import numpy as np\n",
    "import numpy.random as npr\n",
    "import matplotlib.pyplot as plt\n",
    "import pandas as pd\n",
    "from IPython.display import display\n",
    "import it_pris_dil_func as pris_dil"
   ]
  },
  {
   "cell_type": "code",
   "execution_count": 2,
   "metadata": {},
   "outputs": [
    {
     "name": "stdout",
     "output_type": "stream",
     "text": [
      "[0 0 2 1 1 0 3 0 3 4 2 0 2 4 0 3 1 4 4 4 3 4 1 2 0 2 1 4 0 3]\n",
      "[0 0 0 0 0 0 1 1 1 1 2 2 2 2 2 3 3 3 3 3 3 4 4 4 4 4 4 4 4 4]\n",
      "[0 0 0 0 0 1 1 2 2 2 2 2 3 3 3 3 3 3 3 3 3 4 4 4 4 4 4 4 4 4]\n",
      "[0 0 0 0 0 1 2 2 2 2 2 3 3 3 3 3 3 3 3 3 3 4 4 4 4 4 4 4 4 4]\n",
      "[0 0 0 0 0 1 2 2 2 2 2 3 3 3 3 3 3 3 3 3 3 4 4 4 4 4 4 4 4 4]\n",
      "[0 0 0 1 2 2 2 2 2 3 3 3 3 3 3 3 3 3 3 3 3 4 4 4 4 4 4 4 4 4]\n",
      "[0 1 2 2 2 2 2 3 3 3 3 3 3 3 3 3 3 3 3 3 3 4 4 4 4 4 4 4 4 4]\n",
      "[0 1 2 2 2 2 2 3 3 3 3 3 3 3 3 3 3 3 3 3 3 4 4 4 4 4 4 4 4 4]\n",
      "[0 1 2 2 2 2 2 3 3 3 3 3 3 3 3 3 3 3 3 3 3 4 4 4 4 4 4 4 4 4]\n",
      "[0 1 2 2 2 2 2 3 3 3 3 3 3 3 3 3 3 3 3 3 3 4 4 4 4 4 4 4 4 4]\n",
      "[0 1 2 2 2 2 2 3 3 3 3 3 3 3 3 3 3 3 3 3 3 4 4 4 4 4 4 4 4 4]\n",
      "[0 1 2 2 2 2 2 3 3 3 3 3 3 3 3 3 3 3 3 3 3 4 4 4 4 4 4 4 4 4]\n",
      "[0 1 2 2 2 2 2 3 3 3 3 3 3 3 3 3 3 3 3 3 3 4 4 4 4 4 4 4 4 4]\n",
      "[0 1 2 2 2 2 2 3 3 3 3 3 3 3 3 3 3 3 3 3 3 4 4 4 4 4 4 4 4 4]\n",
      "[0 1 2 2 2 2 2 3 3 3 3 3 3 3 3 3 3 3 3 3 3 4 4 4 4 4 4 4 4 4]\n",
      "[0 1 2 2 2 2 2 3 3 3 3 3 3 3 3 3 3 3 3 3 3 4 4 4 4 4 4 4 4 4]\n",
      "[0 1 2 2 2 2 2 3 3 3 3 3 3 3 3 3 3 3 3 3 3 4 4 4 4 4 4 4 4 4]\n",
      "[0 1 2 2 2 2 2 3 3 3 3 3 3 3 3 3 3 3 3 3 3 4 4 4 4 4 4 4 4 4]\n",
      "[0 1 2 2 2 2 2 3 3 3 3 3 3 3 3 3 3 3 3 3 3 4 4 4 4 4 4 4 4 4]\n",
      "[0 1 2 2 2 2 2 3 3 3 3 3 3 3 3 3 3 3 3 3 3 4 4 4 4 4 4 4 4 4]\n",
      "[0 1 2 2 2 2 2 3 3 3 3 3 3 3 3 3 3 3 3 3 3 4 4 4 4 4 4 4 4 4]\n"
     ]
    }
   ],
   "source": [
    "s = ['nice','bad','m_nice','m_bad','tit_tat']\n",
    "\n",
    "n_players = 30\n",
    "h = npr.randint(0,len(s),size=n_players)\n",
    "#h = np.zeros((2,n_players))\n",
    "#h[0] = npr.randint(0,len(s),size=n_players)\n",
    "unique, n_strategies = np.unique(h,return_counts=True)\n",
    "\n",
    "print(h)\n",
    "\n",
    "k = 20\n",
    "n_ma, val_ma = pris_dil.tournament(h,'update_2',s,it=k)\n"
   ]
  },
  {
   "cell_type": "code",
   "execution_count": 3,
   "metadata": {},
   "outputs": [
    {
     "data": {
      "image/png": "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",
      "text/plain": [
       "<Figure size 1080x360 with 2 Axes>"
      ]
     },
     "metadata": {
      "needs_background": "light"
     },
     "output_type": "display_data"
    }
   ],
   "source": [
    "fig, (ax1,ax2) = plt.subplots(nrows=1,ncols=2,figsize=(15,5))\n",
    "\n",
    "for i in range(len(n_ma.T)):\n",
    "    ax1.plot(np.arange(k),n_ma.T[i],label=s[i])\n",
    "    ax1.set_title('Population')\n",
    "    ax2.plot(np.arange(k),val_ma.T[i],label=s[i])\n",
    "    ax2.set_title('Average points')\n",
    "    ax1.legend()\n",
    "    ax2.legend()\n",
    "plt.show()"
   ]
  },
  {
   "cell_type": "code",
   "execution_count": 6,
   "metadata": {},
   "outputs": [
    {
     "data": {
      "text/html": [
       "<style  type=\"text/css\" >\n",
       "#T_b0279_row0_col0,#T_b0279_row0_col4,#T_b0279_row1_col1,#T_b0279_row2_col2,#T_b0279_row2_col4,#T_b0279_row3_col3,#T_b0279_row4_col0,#T_b0279_row4_col2,#T_b0279_row4_col4{\n",
       "            color :  lightblue;\n",
       "        }#T_b0279_row0_col1,#T_b0279_row0_col2,#T_b0279_row0_col3,#T_b0279_row2_col1,#T_b0279_row2_col3,#T_b0279_row3_col1,#T_b0279_row4_col1,#T_b0279_row4_col3{\n",
       "            color :  red;\n",
       "        }#T_b0279_row1_col0,#T_b0279_row1_col2,#T_b0279_row1_col3,#T_b0279_row1_col4,#T_b0279_row2_col0,#T_b0279_row3_col0,#T_b0279_row3_col2,#T_b0279_row3_col4{\n",
       "            color :  green;\n",
       "        }</style><table id=\"T_b0279_\" ><thead>    <tr>        <th class=\"blank level0\" ></th>        <th class=\"col_heading level0 col0\" >nice</th>        <th class=\"col_heading level0 col1\" >bad</th>        <th class=\"col_heading level0 col2\" >m_nice</th>        <th class=\"col_heading level0 col3\" >m_bad</th>        <th class=\"col_heading level0 col4\" >tit_tat</th>        <th class=\"col_heading level0 col5\" >result</th>    </tr></thead><tbody>\n",
       "                <tr>\n",
       "                        <th id=\"T_b0279_level0_row0\" class=\"row_heading level0 row0\" >nice</th>\n",
       "                        <td id=\"T_b0279_row0_col0\" class=\"data row0 col0\" >300</td>\n",
       "                        <td id=\"T_b0279_row0_col1\" class=\"data row0 col1\" >0</td>\n",
       "                        <td id=\"T_b0279_row0_col2\" class=\"data row0 col2\" >183</td>\n",
       "                        <td id=\"T_b0279_row0_col3\" class=\"data row0 col3\" >90</td>\n",
       "                        <td id=\"T_b0279_row0_col4\" class=\"data row0 col4\" >300</td>\n",
       "                        <td id=\"T_b0279_row0_col5\" class=\"data row0 col5\" >873</td>\n",
       "            </tr>\n",
       "            <tr>\n",
       "                        <th id=\"T_b0279_level0_row1\" class=\"row_heading level0 row1\" >bad</th>\n",
       "                        <td id=\"T_b0279_row1_col0\" class=\"data row1 col0\" >500</td>\n",
       "                        <td id=\"T_b0279_row1_col1\" class=\"data row1 col1\" >100</td>\n",
       "                        <td id=\"T_b0279_row1_col2\" class=\"data row1 col2\" >404</td>\n",
       "                        <td id=\"T_b0279_row1_col3\" class=\"data row1 col3\" >204</td>\n",
       "                        <td id=\"T_b0279_row1_col4\" class=\"data row1 col4\" >104</td>\n",
       "                        <td id=\"T_b0279_row1_col5\" class=\"data row1 col5\" >1312</td>\n",
       "            </tr>\n",
       "            <tr>\n",
       "                        <th id=\"T_b0279_level0_row2\" class=\"row_heading level0 row2\" >m_nice</th>\n",
       "                        <td id=\"T_b0279_row2_col0\" class=\"data row2 col0\" >378</td>\n",
       "                        <td id=\"T_b0279_row2_col1\" class=\"data row2 col1\" >24</td>\n",
       "                        <td id=\"T_b0279_row2_col2\" class=\"data row2 col2\" >242</td>\n",
       "                        <td id=\"T_b0279_row2_col3\" class=\"data row2 col3\" >137</td>\n",
       "                        <td id=\"T_b0279_row2_col4\" class=\"data row2 col4\" >261</td>\n",
       "                        <td id=\"T_b0279_row2_col5\" class=\"data row2 col5\" >1042</td>\n",
       "            </tr>\n",
       "            <tr>\n",
       "                        <th id=\"T_b0279_level0_row3\" class=\"row_heading level0 row3\" >m_bad</th>\n",
       "                        <td id=\"T_b0279_row3_col0\" class=\"data row3 col0\" >440</td>\n",
       "                        <td id=\"T_b0279_row3_col1\" class=\"data row3 col1\" >74</td>\n",
       "                        <td id=\"T_b0279_row3_col2\" class=\"data row3 col2\" >312</td>\n",
       "                        <td id=\"T_b0279_row3_col3\" class=\"data row3 col3\" >170</td>\n",
       "                        <td id=\"T_b0279_row3_col4\" class=\"data row3 col4\" >170</td>\n",
       "                        <td id=\"T_b0279_row3_col5\" class=\"data row3 col5\" >1166</td>\n",
       "            </tr>\n",
       "            <tr>\n",
       "                        <th id=\"T_b0279_level0_row4\" class=\"row_heading level0 row4\" >tit_tat</th>\n",
       "                        <td id=\"T_b0279_row4_col0\" class=\"data row4 col0\" >300</td>\n",
       "                        <td id=\"T_b0279_row4_col1\" class=\"data row4 col1\" >99</td>\n",
       "                        <td id=\"T_b0279_row4_col2\" class=\"data row4 col2\" >261</td>\n",
       "                        <td id=\"T_b0279_row4_col3\" class=\"data row4 col3\" >165</td>\n",
       "                        <td id=\"T_b0279_row4_col4\" class=\"data row4 col4\" >300</td>\n",
       "                        <td id=\"T_b0279_row4_col5\" class=\"data row4 col5\" >1125</td>\n",
       "            </tr>\n",
       "    </tbody></table>"
      ],
      "text/plain": [
       "<pandas.io.formats.style.Styler at 0x1527f8ca310>"
      ]
     },
     "metadata": {},
     "output_type": "display_data"
    }
   ],
   "source": [
    "#Point 1)\n",
    "\n",
<<<<<<< HEAD
    "res = np.zeros((len(s),len(s)))\n",
=======
    "s = ['nice','bad','m_nice','m_bad','tit_tat']\n",
    "\n",
    "result = np.zeros((len(s),len(s)))\n",
>>>>>>> upstream/main
    "for i in range(len(s)):\n",
    "    for j in range(i,len(s)):\n",
    "        p1, p2 = pris_dil.fight(s[i],s[j])\n",
    "        res[i,j] = p1\n",
    "        res[j,i] = p2\n",
    "\n",
    "df = pd.DataFrame(res,dtype=int,columns=s,index=s)\n",
    "\n",
    "#Rappresentazione risultati\n",
    "def colorcell(x):\n",
    "    data = x.copy()\n",
    "    data.loc[:,:] = ''\n",
    "    for i in range(5):\n",
    "        for j in range(5):\n",
    "            if res[i,j] < res[j,i]: data.iloc[i,j] = 'color : red'\n",
    "            elif res[i,j] > res[j,i]: data.iloc[i,j] = 'color : green'\n",
    "            else: data.iloc[i,j] = 'color : lightblue'\n",
    "    return data\n",
    "\n",
    "sum = np.sum(res, axis=1)\n",
    "df['result'] = sum\n",
    "df = df.astype({'result': int})\n",
    "df = df.style.apply(colorcell,axis=None)\n",
    "\n",
    "display(df)"
   ]
  },
  {
   "cell_type": "code",
   "execution_count": 7,
   "metadata": {},
   "outputs": [
    {
     "name": "stdout",
     "output_type": "stream",
     "text": [
      "nice 2\n",
      "bad 1\n",
      "m_nice 1\n",
      "m_bad 5\n",
      "tit_tat 1\n"
     ]
    },
    {
     "data": {
      "image/png": "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",
      "text/plain": [
       "<Figure size 432x288 with 1 Axes>"
      ]
     },
     "metadata": {
      "needs_background": "light"
     },
     "output_type": "display_data"
    }
   ],
   "source": [
    "#Point 2)\n",
    "\n",
    "s = ['nice','bad','m_nice','m_bad','tit_tat']\n",
    "\n",
    "h = npr.randint(0,len(s),size=10)\n",
    "#h = [0,1,1,1,2,3,1,1,1,1,1,4,4,4,4,4,4,4,4,4]\n",
    "unique, n_strategies = np.unique(h,return_counts=True)\n",
    "\n",
    "for a,b in zip(unique,n_strategies): print(s[a],b)\n",
    "\n",
    "unique, media = pris_dil.round_robin(h,s,ord=True)\n",
    "\n",
    "s_unique = [s[val] for val in unique]\n",
    "plt.bar(s_unique,media);"
   ]
  },
  {
   "cell_type": "code",
   "execution_count": 8,
   "metadata": {},
   "outputs": [
    {
     "name": "stdout",
     "output_type": "stream",
     "text": [
      "nice 6\n",
      "bad 9\n",
      "m_nice 4\n",
      "m_bad 3\n",
      "tit_tat 8\n"
     ]
    },
    {
     "ename": "AxisError",
     "evalue": "axis 1 is out of bounds for array of dimension 1",
     "output_type": "error",
     "traceback": [
      "\u001b[1;31m---------------------------------------------------------------------------\u001b[0m",
      "\u001b[1;31mAxisError\u001b[0m                                 Traceback (most recent call last)",
      "\u001b[1;32m<ipython-input-8-b641b15f57a3>\u001b[0m in \u001b[0;36m<module>\u001b[1;34m\u001b[0m\n\u001b[0;32m      8\u001b[0m \u001b[1;33m\u001b[0m\u001b[0m\n\u001b[0;32m      9\u001b[0m \u001b[0mk\u001b[0m \u001b[1;33m=\u001b[0m \u001b[1;36m20\u001b[0m\u001b[1;33m\u001b[0m\u001b[1;33m\u001b[0m\u001b[0m\n\u001b[1;32m---> 10\u001b[1;33m \u001b[0mn_ma\u001b[0m\u001b[1;33m,\u001b[0m \u001b[0mval_ma\u001b[0m \u001b[1;33m=\u001b[0m \u001b[0mpris_dil\u001b[0m\u001b[1;33m.\u001b[0m\u001b[0mtournament\u001b[0m\u001b[1;33m(\u001b[0m\u001b[0mh\u001b[0m\u001b[1;33m,\u001b[0m\u001b[1;34m'update_2'\u001b[0m\u001b[1;33m,\u001b[0m\u001b[0ms\u001b[0m\u001b[1;33m,\u001b[0m\u001b[0mit\u001b[0m\u001b[1;33m=\u001b[0m\u001b[0mk\u001b[0m\u001b[1;33m)\u001b[0m\u001b[1;33m\u001b[0m\u001b[1;33m\u001b[0m\u001b[0m\n\u001b[0m\u001b[0;32m     11\u001b[0m \u001b[1;33m\u001b[0m\u001b[0m\n\u001b[0;32m     12\u001b[0m \u001b[0mfig\u001b[0m\u001b[1;33m,\u001b[0m \u001b[1;33m(\u001b[0m\u001b[0max1\u001b[0m\u001b[1;33m,\u001b[0m\u001b[0max2\u001b[0m\u001b[1;33m)\u001b[0m \u001b[1;33m=\u001b[0m \u001b[0mplt\u001b[0m\u001b[1;33m.\u001b[0m\u001b[0msubplots\u001b[0m\u001b[1;33m(\u001b[0m\u001b[0mnrows\u001b[0m\u001b[1;33m=\u001b[0m\u001b[1;36m1\u001b[0m\u001b[1;33m,\u001b[0m\u001b[0mncols\u001b[0m\u001b[1;33m=\u001b[0m\u001b[1;36m2\u001b[0m\u001b[1;33m,\u001b[0m\u001b[0mfigsize\u001b[0m\u001b[1;33m=\u001b[0m\u001b[1;33m(\u001b[0m\u001b[1;36m15\u001b[0m\u001b[1;33m,\u001b[0m\u001b[1;36m5\u001b[0m\u001b[1;33m)\u001b[0m\u001b[1;33m)\u001b[0m\u001b[1;33m\u001b[0m\u001b[1;33m\u001b[0m\u001b[0m\n",
      "\u001b[1;32mc:\\Users\\PC\\Documents\\UniPd\\prisoner_dilemma\\it_pris_dil_func.py\u001b[0m in \u001b[0;36mtournament\u001b[1;34m(h, f, s, it)\u001b[0m\n\u001b[0;32m    143\u001b[0m     \u001b[1;32mfor\u001b[0m \u001b[0mi\u001b[0m \u001b[1;32min\u001b[0m \u001b[0mrange\u001b[0m\u001b[1;33m(\u001b[0m\u001b[0mit\u001b[0m\u001b[1;33m)\u001b[0m\u001b[1;33m:\u001b[0m\u001b[1;33m\u001b[0m\u001b[1;33m\u001b[0m\u001b[0m\n\u001b[0;32m    144\u001b[0m         \u001b[0mstrategies\u001b[0m\u001b[1;33m,\u001b[0m \u001b[0maverage_results\u001b[0m \u001b[1;33m=\u001b[0m \u001b[0mround_robin\u001b[0m\u001b[1;33m(\u001b[0m\u001b[0mh\u001b[0m\u001b[1;33m,\u001b[0m\u001b[0ms\u001b[0m\u001b[1;33m)\u001b[0m\u001b[1;33m\u001b[0m\u001b[1;33m\u001b[0m\u001b[0m\n\u001b[1;32m--> 145\u001b[1;33m         \u001b[0munique\u001b[0m\u001b[1;33m,\u001b[0m \u001b[0mnumbers\u001b[0m \u001b[1;33m=\u001b[0m \u001b[0mnp\u001b[0m\u001b[1;33m.\u001b[0m\u001b[0munique\u001b[0m\u001b[1;33m(\u001b[0m\u001b[0mh\u001b[0m\u001b[1;33m,\u001b[0m \u001b[0mreturn_counts\u001b[0m \u001b[1;33m=\u001b[0m \u001b[1;32mTrue\u001b[0m\u001b[1;33m,\u001b[0m \u001b[0maxis\u001b[0m\u001b[1;33m=\u001b[0m\u001b[1;36m1\u001b[0m\u001b[1;33m)\u001b[0m\u001b[1;33m\u001b[0m\u001b[1;33m\u001b[0m\u001b[0m\n\u001b[0m\u001b[0;32m    146\u001b[0m \u001b[1;33m\u001b[0m\u001b[0m\n\u001b[0;32m    147\u001b[0m         \u001b[1;32mfor\u001b[0m \u001b[0mj\u001b[0m \u001b[1;32min\u001b[0m \u001b[0mrange\u001b[0m\u001b[1;33m(\u001b[0m\u001b[0mnew_strat\u001b[0m\u001b[1;33m)\u001b[0m\u001b[1;33m:\u001b[0m\u001b[1;33m\u001b[0m\u001b[1;33m\u001b[0m\u001b[0m\n",
      "\u001b[1;32m<__array_function__ internals>\u001b[0m in \u001b[0;36munique\u001b[1;34m(*args, **kwargs)\u001b[0m\n",
      "\u001b[1;32m~\\anaconda3\\lib\\site-packages\\numpy\\lib\\arraysetops.py\u001b[0m in \u001b[0;36munique\u001b[1;34m(ar, return_index, return_inverse, return_counts, axis)\u001b[0m\n\u001b[0;32m    268\u001b[0m     \u001b[1;32mexcept\u001b[0m \u001b[0mnp\u001b[0m\u001b[1;33m.\u001b[0m\u001b[0mAxisError\u001b[0m\u001b[1;33m:\u001b[0m\u001b[1;33m\u001b[0m\u001b[1;33m\u001b[0m\u001b[0m\n\u001b[0;32m    269\u001b[0m         \u001b[1;31m# this removes the \"axis1\" or \"axis2\" prefix from the error message\u001b[0m\u001b[1;33m\u001b[0m\u001b[1;33m\u001b[0m\u001b[1;33m\u001b[0m\u001b[0m\n\u001b[1;32m--> 270\u001b[1;33m         \u001b[1;32mraise\u001b[0m \u001b[0mnp\u001b[0m\u001b[1;33m.\u001b[0m\u001b[0mAxisError\u001b[0m\u001b[1;33m(\u001b[0m\u001b[0maxis\u001b[0m\u001b[1;33m,\u001b[0m \u001b[0mar\u001b[0m\u001b[1;33m.\u001b[0m\u001b[0mndim\u001b[0m\u001b[1;33m)\u001b[0m \u001b[1;32mfrom\u001b[0m \u001b[1;32mNone\u001b[0m\u001b[1;33m\u001b[0m\u001b[1;33m\u001b[0m\u001b[0m\n\u001b[0m\u001b[0;32m    271\u001b[0m \u001b[1;33m\u001b[0m\u001b[0m\n\u001b[0;32m    272\u001b[0m     \u001b[1;31m# Must reshape to a contiguous 2D array for this to work...\u001b[0m\u001b[1;33m\u001b[0m\u001b[1;33m\u001b[0m\u001b[1;33m\u001b[0m\u001b[0m\n",
      "\u001b[1;31mAxisError\u001b[0m: axis 1 is out of bounds for array of dimension 1"
     ]
    }
   ],
   "source": [
    "#Point 3)\n",
    "\n",
    "s = ['nice','bad','m_nice','m_bad','tit_tat']\n",
    "\n",
    "#h = [0,1,1,1,1,1,1,4,4,4,4,4,4]\n",
    "h = npr.randint(0,len(s),size=50)\n",
    "unique, n_strategies = np.unique(h,return_counts=True)\n",
    "\n",
    "for a,b in zip(unique,n_strategies): print(s[a],b)\n",
    "\n",
    "k = 50\n",
    "n_ma, val_ma = pris_dil.tournament(h,'update_2',s,it=k)\n",
    "\n",
    "fig, (ax1,ax2) = plt.subplots(nrows=1,ncols=2,figsize=(15,5))\n",
    "\n",
    "for i in range(len(s)):\n",
    "    ax1.plot(np.arange(k),n_ma.T[i],label=s[i])\n",
    "    ax1.set_title('Population')\n",
    "    ax2.plot(np.arange(k),val_ma.T[i],label=s[i])\n",
    "    ax2.set_title('Average points')\n",
    "    ax1.legend()\n",
    "    ax2.legend()\n",
    "plt.show()\n"
   ]
  },
  {
   "cell_type": "code",
   "execution_count": null,
   "metadata": {},
   "outputs": [],
   "source": [
    "#point 4\n",
    "\n"
   ]
  }
 ],
 "metadata": {
  "kernelspec": {
   "display_name": "Python 3 (ipykernel)",
   "language": "python",
   "name": "python3"
  },
  "language_info": {
   "codemirror_mode": {
    "name": "ipython",
    "version": 3
   },
   "file_extension": ".py",
   "mimetype": "text/x-python",
   "name": "python",
   "nbconvert_exporter": "python",
   "pygments_lexer": "ipython3",
   "version": "3.8.8"
  }
 },
 "nbformat": 4,
 "nbformat_minor": 2
}
