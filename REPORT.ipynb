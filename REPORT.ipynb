{
 "cells": [
  {
   "cell_type": "markdown",
   "metadata": {},
   "source": [
    "# Iterative Prisoner's Dilemma\n",
    "\n",
    "## Description\n",
    "\n",
    "## Project's aims\n",
    "\n",
    "### Strategies\n",
    "\n",
    "* **Nice guy**: always cooperates (the function's output is always $u_D$)\n",
    "* **Bad guy**: always defects \n",
    "* **Mainly nice**: randomly defects $k\\%$ of the times and cooperates $100-k\\%$, $k<50$\n",
    "* **Mainly bad**: randomly defects $k\\%$ of the times and cooperates $100-k\\%$, $k>50$\n",
    "* **Tit-for-tat**: starts by cooperating, then repeats what the opponent has done in the previous move\n",
    "* **Random**:cooperates or defects randomly\n",
    "* **Grim**: starts by cooperating, but if the opponent defects one time, it'll always defect\n",
    "* **Forgiving Tit-Tat**: starts by cooperating, then repeats what the opponent has done in the previous move, but defects only if the opponent defects for two consecutive rounds\n",
    "* **Suspicious Tit-Tat**: starts by defecting, then repeats what the opponent has done in the previous move\n",
    "* **Pavlov**: cooperates if in the previous round has done the same move of the opponent, otherwise defects \n",
    "* **Reactive Nice**: in the first round cooperates $50\\%$ of the times, then cooperates $70\\%$ of the times and defects $30\\%$\n",
    "* **Reactive Bad**: in the first round cooperates $50\\%$ of the times, then cooperates $30\\%$ of the times and defects $70\\%$\n",
    "* **Hard Joss**: plays like Tit fot Tat, but cooperates only with probability $0.9$\n",
    "* **Soft Joss**: plays like Tit fot Tat, but defects only with probability $0.9$\n",
    "\n",
    "## Project's structure\n",
    "\n",
    "This project is structured as follow:\n",
    "* **Point one: Fight 1 vs 1**:\n",
    "* ****:\n",
    "* ** **:\n",
    "\n",
    "### Libraries and imported files\n",
    "\n",
    "We have implemented some libraries and, in order to simplify and streamline the main project, we have created strategies.py, update_func.py and it_pris_dil_func.py, which we'll discuss later."
   ]
  },
  {
   "cell_type": "code",
   "execution_count": null,
   "metadata": {},
   "outputs": [],
   "source": [
    "import numpy as np\n",
    "import numpy.random as npr\n",
    "import matplotlib.pyplot as plt\n",
    "import pandas as pd\n",
    "from IPython.display import display\n",
    "import it_pris_dil_func as pris_dil"
   ]
  },
  {
   "cell_type": "markdown",
   "metadata": {},
   "source": [
    "## Point 1: IPD between two players\n",
    "\n",
    "In this first part we want to implement a iterated prisoner's dilemma implementing two given strategies."
   ]
  },
  {
   "cell_type": "markdown",
   "metadata": {},
   "source": [
    "### Code regarding the strategies implemented\n",
    "\n",
    "We report above the code inside **strategies.py**"
   ]
  },
  {
   "cell_type": "code",
   "execution_count": null,
   "metadata": {},
   "outputs": [],
   "source": [
    "import numpy.random as npr\n",
    "\n",
    "uc, ud = [1,0], [0,1]\n",
    "k=0.3\n",
    "\n",
    "def nice_guy(it,u,v,u2):\n",
    "    return uc\n",
    "\n",
    "def bad_guy(it,u,v,u2):\n",
    "    return ud\n",
    "\n",
    "def mainly_nice(it,u,v,u2):\n",
    "    a = npr.rand()\n",
    "    if a > k: return uc\n",
    "    else: return ud\n",
    "    \n",
    "def mainly_bad(it,u,v,u2):\n",
    "    a = npr.rand()\n",
    "    if a <= k: return uc\n",
    "    else: return ud\n",
    "    \n",
    "def tit_tat(it,u,v,u2):\n",
    "    if it==2: return uc\n",
    "    else: return u\n",
    "    \n",
    "def random(it,u,v,u2):\n",
    "    a = npr.rand()\n",
    "    if a < 0.5: return uc\n",
    "    else: return ud\n",
    "    \n",
    "def pavlov(it,u,v,u2):\n",
    "    if it==2:\n",
    "        return uc\n",
    "    else:\n",
    "        if v == ud:\n",
    "            return ud\n",
    "        else:\n",
    "            if u == ud:\n",
    "                return ud\n",
    "            else: return uc\n",
    "\n",
    "def f_tit_tat(it,u,v,u2):\n",
    "    if it <= 3: return uc\n",
    "    else:\n",
    "        if u == ud and u2 == ud:\n",
    "            return ud\n",
    "        else: return uc"
   ]
  },
  {
   "cell_type": "markdown",
   "metadata": {},
   "source": [
    "As input variables we have:\n",
    "* **it**: current iteration(round) of the 1vs1 fight\n",
    "* **u**: opponent's move in the previous round\n",
    "* **u2**: opponent's move two rounds before\n",
    "* **v**: player's move in the previous round"
   ]
  },
  {
   "cell_type": "markdown",
   "metadata": {},
   "source": [
    "## 1vs1 Fight function\n",
    "\n",
    "Here is reported the function to calculate the fight 1vs1 which consists in a game of the standard prisoner dilemma between two given strategies, iterated for a chosen number of times."
   ]
  },
  {
   "cell_type": "code",
   "execution_count": null,
   "metadata": {},
   "outputs": [],
   "source": [
    "def fight(f,g,probf=0,probg=0,N=None,graph=False):\n",
    "\n",
    "    if N == None: N = 100\n",
    "            \n",
    "    R, S, T, P = 3, 0, 5, 1\n",
    "    M = np.array([[R,S],[T,P]])\n",
    "\n",
    "    p1, p2 = [-1,-1], [-1,-1]\n",
    "    for i in range(2,N+2):\n",
    "        if probf == 0 and probg == 0:\n",
    "            p1.append(strat[f](i,p2[i-1],p1[i-1],p2[i-2]))\n",
    "            p2.append(strat[g](i,p1[i-1],p2[i-1],p1[i-2]))\n",
    "        else:\n",
    "            p1.append(mutation(f,probf,i,p2[i-1],p1[i-1],p2[i-2]))\n",
    "            p2.append(mutation(g,probg,i,p1[i-1],p2[i-1],p1[i-2]))\n",
    "\n",
    "    p1 = np.array(p1[2:]).T\n",
    "    p2 = np.array(p2[2:]).T\n",
    "\n",
    "    result_1 = np.cumsum([np.dot(p1[:,i].T,np.dot(M,p2[:,i])) for i in range(N)])\n",
    "    result_2 = np.cumsum([np.dot(p2[:,i].T,np.dot(M,p1[:,i])) for i in range(N)])\n",
    "\n",
    "    if graph == True:\n",
    "        plt.xlabel('iteration')\n",
    "        plt.ylabel('points')\n",
    "        plt.plot(result_1, label=f)\n",
    "        plt.plot(result_2, label=g)\n",
    "        plt.legend()\n",
    "\n",
    "    return [result_1[-1], result_2[-1]]"
   ]
  },
  {
   "cell_type": "markdown",
   "metadata": {},
   "source": [
    "For simplicity in this first point we use only the standard strategies, represented in a list called **s**.\n",
    "We use this function in a nested for loop in order to create the **result matrix**, containing the score of all the fights' combinations."
   ]
  },
  {
   "cell_type": "code",
   "execution_count": null,
   "metadata": {},
   "outputs": [],
   "source": [
    "s = ['nice','bad','m_nice','m_bad','tit_tat']\n",
    "\n",
    "result = np.zeros((len(s),len(s)))\n",
    "for i in range(len(s)):\n",
    "    for j in range(i,len(s)):\n",
    "        p1, p2 = pris_dil.fight(s[i],s[j])\n",
    "        result[i,j] = p1\n",
    "        result[j,i] = p2\n",
    "\n",
    "df = pd.DataFrame(result,dtype=int,columns=s,index=s)\n",
    "\n",
    "#Results representation\n",
    "def colorcell(x):\n",
    "    data = x.copy()\n",
    "    data.loc[:,:] = ''\n",
    "    for i in range(5):\n",
    "        for j in range(5):\n",
    "            if result[i,j] < result[j,i]: data.iloc[i,j] = 'color : red'\n",
    "            elif result[i,j] > result[j,i]: data.iloc[i,j] = 'color : green'\n",
    "            else: data.iloc[i,j] = 'color : lightblue'\n",
    "    return data\n",
    "\n",
    "sum = np.sum(result, axis=1)\n",
    "df['result'] = sum\n",
    "df = df.astype({'result': int})\n",
    "df = df.style.apply(colorcell,axis=None)\n",
    "\n",
    "display(df)"
   ]
  }
 ],
 "metadata": {
  "kernelspec": {
   "display_name": "Python 3",
   "language": "python",
   "name": "python3"
  },
  "language_info": {
   "codemirror_mode": {
    "name": "ipython",
    "version": 3
   },
   "file_extension": ".py",
   "mimetype": "text/x-python",
   "name": "python",
   "nbconvert_exporter": "python",
   "pygments_lexer": "ipython3",
   "version": "3.7.6"
  }
 },
 "nbformat": 4,
 "nbformat_minor": 4
}
