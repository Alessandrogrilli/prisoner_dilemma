{
 "cells": [
  {
   "cell_type": "markdown",
   "metadata": {},
   "source": [
    "# Iterative Prisoner's Dilemma\n",
    "\n",
    "\n",
    "### Description\n",
    "\n",
    "The [Prisoner's Dilemma](https://en.wikipedia.org/wiki/Prisoner%27s_dilemma) (PD) is a classical game analyzed in game theory, which is widely used to (attempt to) model social/economical interaction. It's a \"dilemma\" as, if exploited to explain the emergence of altruism in human or in general animal society, it fails badly at a first glance.\n",
    "\n",
    "The classical situation-representation of the PD is that of two prisoners whose conviction depends on their mutual cooperation. It is easier understood though if illustrated in terms of a trade-off game (closed bag exachange):\n",
    "\n",
    "*Two people meet and exchange closed bags, with the understanding that one of them contains money, and the other contains a purchase. Either player can choose to honor the deal by putting into his or her bag what he or she agreed, or he or she can defect by handing over an empty bag.*\n",
    "\n",
    "It is obvious that for both players the winning strategy is to NOT cooperate.\n",
    "\n",
    "Things changes when the interaction between the two individuals is iterated, in that case a more altruist attitude (strategy) is expected to emerge. The goal of this project is to test this hypothesis.\n",
    "\n",
    "Mathematically the PD can be expressed with very basic linear algebra. The key component is the **Payoff matrix** $M$, which quantify the reward each player gets depending on whether she cooperated or not (defect):\n",
    "\n",
    "$$\n",
    "M = \n",
    "\\begin{pmatrix} \n",
    "R & S \\\\\n",
    "T & P \n",
    "\\end{pmatrix}\n",
    "$$\n",
    "\n",
    "with $T,R,S,P$ integers that satisfy the following conditions:\n",
    "\n",
    "$$\n",
    "T>R>P>S; \\quad 2R > T+S\n",
    "$$\n",
    "\n",
    "for example $T=3$, $R=2$, $P=1$ and $S=0$, or  $T=5$, $R=3$, $P=2$, $S=0$. Each player choice (move) can be represented by one of the two axis in ${\\rm I\\!R}^2$, i.e. $u_C=\\begin{pmatrix} 1 \\\\ 0 \\end{pmatrix}$ or $u_D=\\begin{pmatrix} 0 \\\\ 1 \\end{pmatrix}$, where the first coordinate stands for *Cooperate* and the second for *Defect*. Being $u_1$ and $u_2$ their rewards $r_1$ and $r_2$ can be computed then as:\n",
    "\n",
    "$$\n",
    "r_1 = u_1^T M u_2\n",
    "\\quad\n",
    "\\quad\n",
    "r_2 = u_2^T M u_1\n",
    "$$\n",
    "\n",
    "In an Iterative Prisoner's Dilemma (IPD), two players play prisoner's dilemma more than once in succession and they remember previous actions of their opponent and change their strategy accordingly. The winning strategy is the one which yields to a larger reward at the end of the IPD.\n",
    "\n",
    "The strategy can be represented as a function which outputs either $u_C$ or $u_D$. Such function can depend on the opponent's history of moves, her on history of moves, on the number of moves played till that moment and so on, but it can only be based on a probability density function. Possible strategies are:\n",
    "\n",
    "* **Nice guy**: always cooperate (the function's output is always $u_D$)\n",
    "* **Bad guy**: always defect \n",
    "* **Mainly nice**: randomly defect $k\\%$ of the times and cooperate $100-k\\%$, $k<50$\n",
    "* **Mainly bad**: randomly defect $k\\%$ of the times and cooperate $100-k\\%$, $k>50$\n",
    "* **tit-for-tat**: start by cooperating, then repeat what the opponent has done in the previous move \n",
    "\n",
    "Many more and much more complex strategies can be implemented. The strategy can even change during the IPD.\n",
    "\n",
    "\n",
    "### Assignments\n",
    "\n",
    "* Implement a simple IPD between two players implementing two given strategies. Study the evolution along the tournament confronting different strategies; study the overall outcome in the different configurations. \n",
    "* Implement a multiple players IPD (MPIPD) where several strategies play against each other in a roud-robin scheme\n",
    "* Iterate what done in the previous task (repeated MPIPD, rMPIPD)  by increasing the population implementing a given strategy depending on the results that strategy achieved in the previous iteration\n",
    "* (*difficult*) Implement a rMPIPD where strategies are allowed to mutate. The goal is to simulate the effect of genetic mutations and the effect of natura selection. A parameter (gene) should encode the attidue of an individual to cooperate, such gene can mutate randomly and the corresponding phenotype should compete in the MPIPD such that the best-fitted is determined.  \n"
   ]
  },
  {
   "cell_type": "code",
   "execution_count": 1,
   "metadata": {},
   "outputs": [],
   "source": [
    "import numpy as np\n",
    "import numpy.random as npr\n",
    "import matplotlib.pyplot as plt\n",
    "import pandas as pd\n",
    "from IPython.display import display\n",
    "import it_pris_dil_func as pris_dil\n",
    "\n",
    "s = ['nice','bad','m_nice','m_bad','tit_tat']"
   ]
  },
  {
   "cell_type": "code",
   "execution_count": 3,
   "metadata": {},
   "outputs": [
    {
     "data": {
      "text/html": [
       "<style type=\"text/css\">\n",
       "#T_ad85f_row0_col0, #T_ad85f_row0_col4, #T_ad85f_row1_col1, #T_ad85f_row2_col2, #T_ad85f_row2_col4, #T_ad85f_row3_col3, #T_ad85f_row4_col0, #T_ad85f_row4_col2, #T_ad85f_row4_col4 {\n",
       "  color: lightblue;\n",
       "}\n",
       "#T_ad85f_row0_col1, #T_ad85f_row0_col2, #T_ad85f_row0_col3, #T_ad85f_row2_col1, #T_ad85f_row2_col3, #T_ad85f_row3_col1, #T_ad85f_row4_col1, #T_ad85f_row4_col3 {\n",
       "  color: red;\n",
       "}\n",
       "#T_ad85f_row1_col0, #T_ad85f_row1_col2, #T_ad85f_row1_col3, #T_ad85f_row1_col4, #T_ad85f_row2_col0, #T_ad85f_row3_col0, #T_ad85f_row3_col2, #T_ad85f_row3_col4 {\n",
       "  color: green;\n",
       "}\n",
       "</style>\n",
       "<table id=\"T_ad85f_\">\n",
       "  <thead>\n",
       "    <tr>\n",
       "      <th class=\"blank level0\" >&nbsp;</th>\n",
       "      <th class=\"col_heading level0 col0\" >nice</th>\n",
       "      <th class=\"col_heading level0 col1\" >bad</th>\n",
       "      <th class=\"col_heading level0 col2\" >m_nice</th>\n",
       "      <th class=\"col_heading level0 col3\" >m_bad</th>\n",
       "      <th class=\"col_heading level0 col4\" >tit_tat</th>\n",
       "      <th class=\"col_heading level0 col5\" >result</th>\n",
       "    </tr>\n",
       "  </thead>\n",
       "  <tbody>\n",
       "    <tr>\n",
       "      <th id=\"T_ad85f_level0_row0\" class=\"row_heading level0 row0\" >nice</th>\n",
       "      <td id=\"T_ad85f_row0_col0\" class=\"data row0 col0\" >300</td>\n",
       "      <td id=\"T_ad85f_row0_col1\" class=\"data row0 col1\" >0</td>\n",
       "      <td id=\"T_ad85f_row0_col2\" class=\"data row0 col2\" >207</td>\n",
       "      <td id=\"T_ad85f_row0_col3\" class=\"data row0 col3\" >117</td>\n",
       "      <td id=\"T_ad85f_row0_col4\" class=\"data row0 col4\" >300</td>\n",
       "      <td id=\"T_ad85f_row0_col5\" class=\"data row0 col5\" >924</td>\n",
       "    </tr>\n",
       "    <tr>\n",
       "      <th id=\"T_ad85f_level0_row1\" class=\"row_heading level0 row1\" >bad</th>\n",
       "      <td id=\"T_ad85f_row1_col0\" class=\"data row1 col0\" >500</td>\n",
       "      <td id=\"T_ad85f_row1_col1\" class=\"data row1 col1\" >100</td>\n",
       "      <td id=\"T_ad85f_row1_col2\" class=\"data row1 col2\" >396</td>\n",
       "      <td id=\"T_ad85f_row1_col3\" class=\"data row1 col3\" >224</td>\n",
       "      <td id=\"T_ad85f_row1_col4\" class=\"data row1 col4\" >104</td>\n",
       "      <td id=\"T_ad85f_row1_col5\" class=\"data row1 col5\" >1324</td>\n",
       "    </tr>\n",
       "    <tr>\n",
       "      <th id=\"T_ad85f_level0_row2\" class=\"row_heading level0 row2\" >m_nice</th>\n",
       "      <td id=\"T_ad85f_row2_col0\" class=\"data row2 col0\" >362</td>\n",
       "      <td id=\"T_ad85f_row2_col1\" class=\"data row2 col1\" >26</td>\n",
       "      <td id=\"T_ad85f_row2_col2\" class=\"data row2 col2\" >261</td>\n",
       "      <td id=\"T_ad85f_row2_col3\" class=\"data row2 col3\" >122</td>\n",
       "      <td id=\"T_ad85f_row2_col4\" class=\"data row2 col4\" >253</td>\n",
       "      <td id=\"T_ad85f_row2_col5\" class=\"data row2 col5\" >1024</td>\n",
       "    </tr>\n",
       "    <tr>\n",
       "      <th id=\"T_ad85f_level0_row3\" class=\"row_heading level0 row3\" >m_bad</th>\n",
       "      <td id=\"T_ad85f_row3_col0\" class=\"data row3 col0\" >422</td>\n",
       "      <td id=\"T_ad85f_row3_col1\" class=\"data row3 col1\" >69</td>\n",
       "      <td id=\"T_ad85f_row3_col2\" class=\"data row3 col2\" >322</td>\n",
       "      <td id=\"T_ad85f_row3_col3\" class=\"data row3 col3\" >191</td>\n",
       "      <td id=\"T_ad85f_row3_col4\" class=\"data row3 col4\" >199</td>\n",
       "      <td id=\"T_ad85f_row3_col5\" class=\"data row3 col5\" >1203</td>\n",
       "    </tr>\n",
       "    <tr>\n",
       "      <th id=\"T_ad85f_level0_row4\" class=\"row_heading level0 row4\" >tit_tat</th>\n",
       "      <td id=\"T_ad85f_row4_col0\" class=\"data row4 col0\" >300</td>\n",
       "      <td id=\"T_ad85f_row4_col1\" class=\"data row4 col1\" >99</td>\n",
       "      <td id=\"T_ad85f_row4_col2\" class=\"data row4 col2\" >253</td>\n",
       "      <td id=\"T_ad85f_row4_col3\" class=\"data row4 col3\" >194</td>\n",
       "      <td id=\"T_ad85f_row4_col4\" class=\"data row4 col4\" >300</td>\n",
       "      <td id=\"T_ad85f_row4_col5\" class=\"data row4 col5\" >1146</td>\n",
       "    </tr>\n",
       "  </tbody>\n",
       "</table>\n"
      ],
      "text/plain": [
       "<pandas.io.formats.style.Styler at 0x2c3969c69d0>"
      ]
     },
     "metadata": {},
     "output_type": "display_data"
    }
   ],
   "source": [
    "#Point 1)\n",
    "\n",
    "res = np.zeros((len(s),len(s)))\n",
    "for i in range(len(s)):\n",
    "    for j in range(i,len(s)):\n",
    "        p1, p2 = pris_dil.fight(s[i],s[j])\n",
    "        res[i,j] = p1\n",
    "        res[j,i] = p2\n",
    "\n",
    "df = pd.DataFrame(res,dtype=int,columns=s,index=s)\n",
    "\n",
    "#Rappresentazione risultati\n",
    "def colorcell(x):\n",
    "    data = x.copy()\n",
    "    data.loc[:,:] = ''\n",
    "    for i in range(5):\n",
    "        for j in range(5):\n",
    "            if res[i,j] < res[j,i]: data.iloc[i,j] = 'color : red'\n",
    "            elif res[i,j] > res[j,i]: data.iloc[i,j] = 'color : green'\n",
    "            else: data.iloc[i,j] = 'color : lightblue'\n",
    "    return data\n",
    "\n",
    "sum = np.sum(res, axis=1)\n",
    "df['result'] = sum\n",
    "df = df.astype({'result': int})\n",
    "df = df.style.apply(colorcell,axis=None)\n",
    "\n",
    "display(df)"
   ]
  },
  {
   "cell_type": "code",
   "execution_count": 4,
   "metadata": {},
   "outputs": [
    {
     "name": "stdout",
     "output_type": "stream",
     "text": [
      "nice 1\n",
      "bad 8\n",
      "m_nice 1\n",
      "m_bad 1\n",
      "tit_tat 9\n"
     ]
    },
    {
     "data": {
      "image/png": "[encoded data removed]",
      "text/plain": [
       "<Figure size 432x288 with 1 Axes>"
      ]
     },
     "metadata": {
      "needs_background": "light"
     },
     "output_type": "display_data"
    }
   ],
   "source": [
    "#Point 2)\n",
    "\n",
    "#h = npr.randint(0,len(s),size=30)\n",
    "h = [0,1,1,1,2,3,1,1,1,1,1,4,4,4,4,4,4,4,4,4]\n",
    "unique, n_strategies = np.unique(h,return_counts=True)\n",
    "\n",
    "for a,b in zip(unique,n_strategies): print(s[a],b)\n",
    "\n",
    "unique, media = pris_dil.round_robin(h,s,ord=True)\n",
    "\n",
    "s_unique = [s[val] for val in unique]\n",
    "plt.bar(s_unique,media);"
   ]
  },
  {
   "cell_type": "code",
   "execution_count": 5,
   "metadata": {},
   "outputs": [
    {
     "name": "stdout",
     "output_type": "stream",
     "text": [
      "nice 10\n",
      "bad 8\n",
      "m_nice 13\n",
      "m_bad 9\n",
      "tit_tat 10\n"
     ]
    },
    {
     "data": {
      "image/png": "[encoded data removed]",
      "text/plain": [
       "<Figure size 1080x360 with 2 Axes>"
      ]
     },
     "metadata": {
      "needs_background": "light"
     },
     "output_type": "display_data"
    }
   ],
   "source": [
    "#Point 3)\n",
    "\n",
    "#h = [0,1,1,1,1,1,1,4,4,4,4,4,4]\n",
    "h = npr.randint(0,len(s),size=50)\n",
    "unique, n_strategies = np.unique(h,return_counts=True)\n",
    "\n",
    "for a,b in zip(unique,n_strategies): print(s[a],b)\n",
    "\n",
    "k = 50\n",
    "n_ma, val_ma = pris_dil.tournament(h,'update_2',s,it=k)\n",
    "\n",
    "fig, (ax1,ax2) = plt.subplots(nrows=1,ncols=2,figsize=(15,5))\n",
    "\n",
    "for i in range(len(s)):\n",
    "    ax1.plot(np.arange(k),n_ma.T[i],label=s[i])\n",
    "    ax1.set_title('Population')\n",
    "    ax2.plot(np.arange(k),val_ma.T[i],label=s[i])\n",
    "    ax2.set_title('Average points')\n",
    "    ax1.legend()\n",
    "    ax2.legend()\n",
    "plt.show()\n"
   ]
  },
  {
   "cell_type": "code",
   "execution_count": null,
   "metadata": {},
   "outputs": [],
   "source": [
    "#point 4\n",
    "\n"
   ]
  }
 ],
 "metadata": {
  "kernelspec": {
   "display_name": "Python 3 (ipykernel)",
   "language": "python",
   "name": "python3"
  },
  "language_info": {
   "codemirror_mode": {
    "name": "ipython",
    "version": 3
   },
   "file_extension": ".py",
   "mimetype": "text/x-python",
   "name": "python",
   "nbconvert_exporter": "python",
   "pygments_lexer": "ipython3",
   "version": "3.8.8"
  }
 },
 "nbformat": 4,
 "nbformat_minor": 2
}
