{
 "cells": [
  {
   "cell_type": "markdown",
   "metadata": {},
   "source": [
    "# Iterative Prisoner's Dilemma\n",
    "\n",
    "\n",
    "### Description\n",
    "\n",
    "The [Prisoner's Dilemma](https://en.wikipedia.org/wiki/Prisoner%27s_dilemma) (PD) is a classical game analyzed in game theory, which is widely used to (attempt to) model social/economical interaction. It's a \"dilemma\" as, if exploited to explain the emergence of altruism in human or in general animal society, it fails badly at a first glance.\n",
    "\n",
    "The classical situation-representation of the PD is that of two prisoners whose conviction depends on their mutual cooperation. It is easier understood though if illustrated in terms of a trade-off game (closed bag exachange):\n",
    "\n",
    "*Two people meet and exchange closed bags, with the understanding that one of them contains money, and the other contains a purchase. Either player can choose to honor the deal by putting into his or her bag what he or she agreed, or he or she can defect by handing over an empty bag.*\n",
    "\n",
    "It is obvious that for both players the winning strategy is to NOT cooperate.\n",
    "\n",
    "Things changes when the interaction between the two individuals is iterated, in that case a more altruist attitude (strategy) is expected to emerge. The goal of this project is to test this hypothesis.\n",
    "\n",
    "Mathematically the PD can be expressed with very basic linear algebra. The key component is the **Payoff matrix** $M$, which quantify the reward each player gets depending on whether she cooperated or not (defect):\n",
    "\n",
    "$$\n",
    "M = \n",
    "\\begin{pmatrix} \n",
    "R & S \\\\\n",
    "T & P \n",
    "\\end{pmatrix}\n",
    "$$\n",
    "\n",
    "with $T,R,S,P$ integers that satisfy the following conditions:\n",
    "\n",
    "$$\n",
    "T>R>P>S; \\quad 2R > T+S\n",
    "$$\n",
    "\n",
    "for example $T=3$, $R=2$, $P=1$ and $S=0$, or  $T=5$, $R=3$, $P=2$, $S=0$. Each player choice (move) can be represented by one of the two axis in ${\\rm I\\!R}^2$, i.e. $u_C=\\begin{pmatrix} 1 \\\\ 0 \\end{pmatrix}$ or $u_D=\\begin{pmatrix} 0 \\\\ 1 \\end{pmatrix}$, where the first coordinate stands for *Cooperate* and the second for *Defect*. Being $u_1$ and $u_2$ their rewards $r_1$ and $r_2$ can be computed then as:\n",
    "\n",
    "$$\n",
    "r_1 = u_1^T M u_2\n",
    "\\quad\n",
    "\\quad\n",
    "r_2 = u_2^T M u_1\n",
    "$$\n",
    "\n",
    "In an Iterative Prisoner's Dilemma (IPD), two players play prisoner's dilemma more than once in succession and they remember previous actions of their opponent and change their strategy accordingly. The winning strategy is the one which yields to a larger reward at the end of the IPD.\n",
    "\n",
    "The strategy can be represented as a function which outputs either $u_C$ or $u_D$. Such function can depend on the opponent's history of moves, her on history of moves, on the number of moves played till that moment and so on, but it can only be based on a probability density function. Possible strategies are:\n",
    "\n",
    "* **Nice guy**: always cooperate (the function's output is always $u_D$)\n",
    "* **Bad guy**: always defect \n",
    "* **Mainly nice**: randomly defect $k\\%$ of the times and cooperate $100-k\\%$, $k<50$\n",
    "* **Mainly bad**: randomly defect $k\\%$ of the times and cooperate $100-k\\%$, $k>50$\n",
    "* **tit-for-tat**: start by cooperating, then repeat what the opponent has done in the previous move \n",
    "\n",
    "Many more and much more complex strategies can be implemented. The strategy can even change during the IPD.\n",
    "\n",
    "\n",
    "### Assignments\n",
    "\n",
    "* Implement a simple IPD between two players implementing two given strategies. Study the evolution along the tournament confronting different strategies; study the overall outcome in the different configurations. \n",
    "* Implement a multiple players IPD (MPIPD) where several strategies play against each other in a roud-robin scheme\n",
    "* Iterate what done in the previous task (repeated MPIPD, rMPIPD)  by increasing the population implementing a given strategy depending on the results that strategy achieved in the previous iteration\n",
    "* (*difficult*) Implement a rMPIPD where strategies are allowed to mutate. The goal is to simulate the effect of genetic mutations and the effect of natura selection. A parameter (gene) should encode the attidue of an individual to cooperate, such gene can mutate randomly and the corresponding phenotype should compete in the MPIPD such that the best-fitted is determined.  \n"
   ]
  },
  {
   "cell_type": "code",
   "execution_count": 1,
   "metadata": {},
<<<<<<< HEAD
   "outputs": [
    {
     "data": {
      "text/plain": [
       "'%.1f'"
      ]
     },
     "execution_count": 1,
     "metadata": {},
     "output_type": "execute_result"
    }
   ],
=======
   "outputs": [],
>>>>>>> upstream/main
   "source": [
    "import numpy as np\n",
    "import numpy.random as npr\n",
    "import matplotlib.pyplot as plt\n",
<<<<<<< HEAD
    "from functools import partial\n",
    "import pandas as pd\n",
    "from IPython.display import display\n",
    "\n",
    "%precision 1"
   ]
  },
  {
   "cell_type": "code",
   "execution_count": 2,
   "metadata": {},
   "outputs": [],
   "source": [
    "uc, ud = [1,0], [0,1]\n",
    "k=0.3\n",
    "\n",
    "def nice_guy(it,u):\n",
    "    return uc\n",
    "def bad_guy(it,u):\n",
    "    return ud\n",
    "def mainly_nice(it,u):\n",
    "    a = npr.rand()\n",
    "    if a > k: return uc\n",
    "    else: return ud\n",
    "def mainly_bad(it,u):\n",
    "    a = npr.rand()\n",
    "    if a <= k: return uc\n",
    "    else: return ud\n",
    "def tit_tat(it,u):\n",
    "    if it==1: return uc\n",
    "    else: return u  \n",
    "\n",
    "strat = {'nice': partial(nice_guy),\n",
    "        'bad': partial(bad_guy), \n",
    "        'm_nice': partial(mainly_nice),\n",
    "        'm_bad': partial(mainly_bad),\n",
    "        'tit_tat': partial(tit_tat)}\n"
   ]
  },
  {
   "cell_type": "code",
   "execution_count": 3,
   "metadata": {},
   "outputs": [],
   "source": [
    "def fight(f,g,N=None,graph=False):\n",
    "\n",
    "    if N == None: N = 100\n",
    "            \n",
    "    R, S, T, P = 3, 0, 5, 1\n",
    "    M = np.array([[R,S],[T,P]])\n",
    "\n",
    "    p1, p2 = [-1], [-1]\n",
    "    for i in range(1,N+1):\n",
    "        p1.append(strat[f](i,p2[i-1]))\n",
    "        p2.append(strat[g](i,p1[i-1]))\n",
    "\n",
    "    p1 = np.array(p1[1:]).T\n",
    "    p2 = np.array(p2[1:]).T\n",
    "\n",
    "    result_1 = np.cumsum([np.dot(p1[:,i].T,np.dot(M,p2[:,i])) for i in range(N)])\n",
    "    result_2 = np.cumsum([np.dot(p2[:,i].T,np.dot(M,p1[:,i])) for i in range(N)])\n",
    "\n",
    "    if graph == True:\n",
    "        plt.xlabel('iteration')\n",
    "        plt.ylabel('points')\n",
    "        plt.plot(result_1, label=f)\n",
    "        plt.plot(result_2, label=g)\n",
    "        plt.legend()\n",
    "\n",
    "    return [result_1[-1], result_2[-1]]"
=======
    "import pandas as pd\n",
    "from IPython.display import display\n",
    "import it_pris_dil_func as pris_dil"
>>>>>>> upstream/main
   ]
  },
  {
   "cell_type": "code",
<<<<<<< HEAD
   "execution_count": 4,
=======
   "execution_count": 6,
>>>>>>> upstream/main
   "metadata": {},
   "outputs": [
    {
     "data": {
      "text/html": [
       "<style  type=\"text/css\" >\n",
<<<<<<< HEAD
       "    #T_412d86e6_85b0_11ec_94a9_9500a1624502row0_col0 {\n",
       "            color :  lightblue;\n",
       "        }    #T_412d86e6_85b0_11ec_94a9_9500a1624502row0_col1 {\n",
       "            color :  red;\n",
       "        }    #T_412d86e6_85b0_11ec_94a9_9500a1624502row0_col2 {\n",
       "            color :  red;\n",
       "        }    #T_412d86e6_85b0_11ec_94a9_9500a1624502row0_col3 {\n",
       "            color :  red;\n",
       "        }    #T_412d86e6_85b0_11ec_94a9_9500a1624502row0_col4 {\n",
       "            color :  lightblue;\n",
       "        }    #T_412d86e6_85b0_11ec_94a9_9500a1624502row1_col0 {\n",
       "            color :  green;\n",
       "        }    #T_412d86e6_85b0_11ec_94a9_9500a1624502row1_col1 {\n",
       "            color :  lightblue;\n",
       "        }    #T_412d86e6_85b0_11ec_94a9_9500a1624502row1_col2 {\n",
       "            color :  green;\n",
       "        }    #T_412d86e6_85b0_11ec_94a9_9500a1624502row1_col3 {\n",
       "            color :  green;\n",
       "        }    #T_412d86e6_85b0_11ec_94a9_9500a1624502row1_col4 {\n",
       "            color :  green;\n",
       "        }    #T_412d86e6_85b0_11ec_94a9_9500a1624502row2_col0 {\n",
       "            color :  green;\n",
       "        }    #T_412d86e6_85b0_11ec_94a9_9500a1624502row2_col1 {\n",
       "            color :  red;\n",
       "        }    #T_412d86e6_85b0_11ec_94a9_9500a1624502row2_col2 {\n",
       "            color :  lightblue;\n",
       "        }    #T_412d86e6_85b0_11ec_94a9_9500a1624502row2_col3 {\n",
       "            color :  red;\n",
       "        }    #T_412d86e6_85b0_11ec_94a9_9500a1624502row2_col4 {\n",
       "            color :  lightblue;\n",
       "        }    #T_412d86e6_85b0_11ec_94a9_9500a1624502row3_col0 {\n",
       "            color :  green;\n",
       "        }    #T_412d86e6_85b0_11ec_94a9_9500a1624502row3_col1 {\n",
       "            color :  red;\n",
       "        }    #T_412d86e6_85b0_11ec_94a9_9500a1624502row3_col2 {\n",
       "            color :  green;\n",
       "        }    #T_412d86e6_85b0_11ec_94a9_9500a1624502row3_col3 {\n",
       "            color :  lightblue;\n",
       "        }    #T_412d86e6_85b0_11ec_94a9_9500a1624502row3_col4 {\n",
       "            color :  green;\n",
       "        }    #T_412d86e6_85b0_11ec_94a9_9500a1624502row4_col0 {\n",
       "            color :  lightblue;\n",
       "        }    #T_412d86e6_85b0_11ec_94a9_9500a1624502row4_col1 {\n",
       "            color :  red;\n",
       "        }    #T_412d86e6_85b0_11ec_94a9_9500a1624502row4_col2 {\n",
       "            color :  lightblue;\n",
       "        }    #T_412d86e6_85b0_11ec_94a9_9500a1624502row4_col3 {\n",
       "            color :  red;\n",
       "        }    #T_412d86e6_85b0_11ec_94a9_9500a1624502row4_col4 {\n",
       "            color :  lightblue;\n",
       "        }</style><table id=\"T_412d86e6_85b0_11ec_94a9_9500a1624502\" ><thead>    <tr>        <th class=\"blank level0\" ></th>        <th class=\"col_heading level0 col0\" >nice</th>        <th class=\"col_heading level0 col1\" >bad</th>        <th class=\"col_heading level0 col2\" >m_nice</th>        <th class=\"col_heading level0 col3\" >m_bad</th>        <th class=\"col_heading level0 col4\" >tit_tat</th>        <th class=\"col_heading level0 col5\" >result</th>    </tr></thead><tbody>\n",
       "                <tr>\n",
       "                        <th id=\"T_412d86e6_85b0_11ec_94a9_9500a1624502level0_row0\" class=\"row_heading level0 row0\" >nice</th>\n",
       "                        <td id=\"T_412d86e6_85b0_11ec_94a9_9500a1624502row0_col0\" class=\"data row0 col0\" >300</td>\n",
       "                        <td id=\"T_412d86e6_85b0_11ec_94a9_9500a1624502row0_col1\" class=\"data row0 col1\" >0</td>\n",
       "                        <td id=\"T_412d86e6_85b0_11ec_94a9_9500a1624502row0_col2\" class=\"data row0 col2\" >213</td>\n",
       "                        <td id=\"T_412d86e6_85b0_11ec_94a9_9500a1624502row0_col3\" class=\"data row0 col3\" >72</td>\n",
       "                        <td id=\"T_412d86e6_85b0_11ec_94a9_9500a1624502row0_col4\" class=\"data row0 col4\" >300</td>\n",
       "                        <td id=\"T_412d86e6_85b0_11ec_94a9_9500a1624502row0_col5\" class=\"data row0 col5\" >885</td>\n",
       "            </tr>\n",
       "            <tr>\n",
       "                        <th id=\"T_412d86e6_85b0_11ec_94a9_9500a1624502level0_row1\" class=\"row_heading level0 row1\" >bad</th>\n",
       "                        <td id=\"T_412d86e6_85b0_11ec_94a9_9500a1624502row1_col0\" class=\"data row1 col0\" >500</td>\n",
       "                        <td id=\"T_412d86e6_85b0_11ec_94a9_9500a1624502row1_col1\" class=\"data row1 col1\" >100</td>\n",
       "                        <td id=\"T_412d86e6_85b0_11ec_94a9_9500a1624502row1_col2\" class=\"data row1 col2\" >364</td>\n",
       "                        <td id=\"T_412d86e6_85b0_11ec_94a9_9500a1624502row1_col3\" class=\"data row1 col3\" >248</td>\n",
       "                        <td id=\"T_412d86e6_85b0_11ec_94a9_9500a1624502row1_col4\" class=\"data row1 col4\" >104</td>\n",
       "                        <td id=\"T_412d86e6_85b0_11ec_94a9_9500a1624502row1_col5\" class=\"data row1 col5\" >1316</td>\n",
       "            </tr>\n",
       "            <tr>\n",
       "                        <th id=\"T_412d86e6_85b0_11ec_94a9_9500a1624502level0_row2\" class=\"row_heading level0 row2\" >m_nice</th>\n",
       "                        <td id=\"T_412d86e6_85b0_11ec_94a9_9500a1624502row2_col0\" class=\"data row2 col0\" >358</td>\n",
       "                        <td id=\"T_412d86e6_85b0_11ec_94a9_9500a1624502row2_col1\" class=\"data row2 col1\" >34</td>\n",
       "                        <td id=\"T_412d86e6_85b0_11ec_94a9_9500a1624502row2_col2\" class=\"data row2 col2\" >298</td>\n",
       "                        <td id=\"T_412d86e6_85b0_11ec_94a9_9500a1624502row2_col3\" class=\"data row2 col3\" >127</td>\n",
       "                        <td id=\"T_412d86e6_85b0_11ec_94a9_9500a1624502row2_col4\" class=\"data row2 col4\" >265</td>\n",
       "                        <td id=\"T_412d86e6_85b0_11ec_94a9_9500a1624502row2_col5\" class=\"data row2 col5\" >1082</td>\n",
       "            </tr>\n",
       "            <tr>\n",
       "                        <th id=\"T_412d86e6_85b0_11ec_94a9_9500a1624502level0_row3\" class=\"row_heading level0 row3\" >m_bad</th>\n",
       "                        <td id=\"T_412d86e6_85b0_11ec_94a9_9500a1624502row3_col0\" class=\"data row3 col0\" >452</td>\n",
       "                        <td id=\"T_412d86e6_85b0_11ec_94a9_9500a1624502row3_col1\" class=\"data row3 col1\" >63</td>\n",
       "                        <td id=\"T_412d86e6_85b0_11ec_94a9_9500a1624502row3_col2\" class=\"data row3 col2\" >317</td>\n",
       "                        <td id=\"T_412d86e6_85b0_11ec_94a9_9500a1624502row3_col3\" class=\"data row3 col3\" >171</td>\n",
       "                        <td id=\"T_412d86e6_85b0_11ec_94a9_9500a1624502row3_col4\" class=\"data row3 col4\" >190</td>\n",
       "                        <td id=\"T_412d86e6_85b0_11ec_94a9_9500a1624502row3_col5\" class=\"data row3 col5\" >1193</td>\n",
       "            </tr>\n",
       "            <tr>\n",
       "                        <th id=\"T_412d86e6_85b0_11ec_94a9_9500a1624502level0_row4\" class=\"row_heading level0 row4\" >tit_tat</th>\n",
       "                        <td id=\"T_412d86e6_85b0_11ec_94a9_9500a1624502row4_col0\" class=\"data row4 col0\" >300</td>\n",
       "                        <td id=\"T_412d86e6_85b0_11ec_94a9_9500a1624502row4_col1\" class=\"data row4 col1\" >99</td>\n",
       "                        <td id=\"T_412d86e6_85b0_11ec_94a9_9500a1624502row4_col2\" class=\"data row4 col2\" >265</td>\n",
       "                        <td id=\"T_412d86e6_85b0_11ec_94a9_9500a1624502row4_col3\" class=\"data row4 col3\" >185</td>\n",
       "                        <td id=\"T_412d86e6_85b0_11ec_94a9_9500a1624502row4_col4\" class=\"data row4 col4\" >300</td>\n",
       "                        <td id=\"T_412d86e6_85b0_11ec_94a9_9500a1624502row4_col5\" class=\"data row4 col5\" >1149</td>\n",
=======
       "    #T_493f4ac0_88fa_11ec_99c4_1f3eb8029ca5row0_col0 {\n",
       "            color :  lightblue;\n",
       "        }    #T_493f4ac0_88fa_11ec_99c4_1f3eb8029ca5row0_col1 {\n",
       "            color :  red;\n",
       "        }    #T_493f4ac0_88fa_11ec_99c4_1f3eb8029ca5row0_col2 {\n",
       "            color :  red;\n",
       "        }    #T_493f4ac0_88fa_11ec_99c4_1f3eb8029ca5row0_col3 {\n",
       "            color :  red;\n",
       "        }    #T_493f4ac0_88fa_11ec_99c4_1f3eb8029ca5row0_col4 {\n",
       "            color :  lightblue;\n",
       "        }    #T_493f4ac0_88fa_11ec_99c4_1f3eb8029ca5row1_col0 {\n",
       "            color :  green;\n",
       "        }    #T_493f4ac0_88fa_11ec_99c4_1f3eb8029ca5row1_col1 {\n",
       "            color :  lightblue;\n",
       "        }    #T_493f4ac0_88fa_11ec_99c4_1f3eb8029ca5row1_col2 {\n",
       "            color :  green;\n",
       "        }    #T_493f4ac0_88fa_11ec_99c4_1f3eb8029ca5row1_col3 {\n",
       "            color :  green;\n",
       "        }    #T_493f4ac0_88fa_11ec_99c4_1f3eb8029ca5row1_col4 {\n",
       "            color :  green;\n",
       "        }    #T_493f4ac0_88fa_11ec_99c4_1f3eb8029ca5row2_col0 {\n",
       "            color :  green;\n",
       "        }    #T_493f4ac0_88fa_11ec_99c4_1f3eb8029ca5row2_col1 {\n",
       "            color :  red;\n",
       "        }    #T_493f4ac0_88fa_11ec_99c4_1f3eb8029ca5row2_col2 {\n",
       "            color :  lightblue;\n",
       "        }    #T_493f4ac0_88fa_11ec_99c4_1f3eb8029ca5row2_col3 {\n",
       "            color :  red;\n",
       "        }    #T_493f4ac0_88fa_11ec_99c4_1f3eb8029ca5row2_col4 {\n",
       "            color :  green;\n",
       "        }    #T_493f4ac0_88fa_11ec_99c4_1f3eb8029ca5row3_col0 {\n",
       "            color :  green;\n",
       "        }    #T_493f4ac0_88fa_11ec_99c4_1f3eb8029ca5row3_col1 {\n",
       "            color :  red;\n",
       "        }    #T_493f4ac0_88fa_11ec_99c4_1f3eb8029ca5row3_col2 {\n",
       "            color :  green;\n",
       "        }    #T_493f4ac0_88fa_11ec_99c4_1f3eb8029ca5row3_col3 {\n",
       "            color :  lightblue;\n",
       "        }    #T_493f4ac0_88fa_11ec_99c4_1f3eb8029ca5row3_col4 {\n",
       "            color :  green;\n",
       "        }    #T_493f4ac0_88fa_11ec_99c4_1f3eb8029ca5row4_col0 {\n",
       "            color :  lightblue;\n",
       "        }    #T_493f4ac0_88fa_11ec_99c4_1f3eb8029ca5row4_col1 {\n",
       "            color :  red;\n",
       "        }    #T_493f4ac0_88fa_11ec_99c4_1f3eb8029ca5row4_col2 {\n",
       "            color :  red;\n",
       "        }    #T_493f4ac0_88fa_11ec_99c4_1f3eb8029ca5row4_col3 {\n",
       "            color :  red;\n",
       "        }    #T_493f4ac0_88fa_11ec_99c4_1f3eb8029ca5row4_col4 {\n",
       "            color :  lightblue;\n",
       "        }</style><table id=\"T_493f4ac0_88fa_11ec_99c4_1f3eb8029ca5\" ><thead>    <tr>        <th class=\"blank level0\" ></th>        <th class=\"col_heading level0 col0\" >nice</th>        <th class=\"col_heading level0 col1\" >bad</th>        <th class=\"col_heading level0 col2\" >m_nice</th>        <th class=\"col_heading level0 col3\" >m_bad</th>        <th class=\"col_heading level0 col4\" >tit_tat</th>        <th class=\"col_heading level0 col5\" >result</th>    </tr></thead><tbody>\n",
       "                <tr>\n",
       "                        <th id=\"T_493f4ac0_88fa_11ec_99c4_1f3eb8029ca5level0_row0\" class=\"row_heading level0 row0\" >nice</th>\n",
       "                        <td id=\"T_493f4ac0_88fa_11ec_99c4_1f3eb8029ca5row0_col0\" class=\"data row0 col0\" >300</td>\n",
       "                        <td id=\"T_493f4ac0_88fa_11ec_99c4_1f3eb8029ca5row0_col1\" class=\"data row0 col1\" >0</td>\n",
       "                        <td id=\"T_493f4ac0_88fa_11ec_99c4_1f3eb8029ca5row0_col2\" class=\"data row0 col2\" >210</td>\n",
       "                        <td id=\"T_493f4ac0_88fa_11ec_99c4_1f3eb8029ca5row0_col3\" class=\"data row0 col3\" >93</td>\n",
       "                        <td id=\"T_493f4ac0_88fa_11ec_99c4_1f3eb8029ca5row0_col4\" class=\"data row0 col4\" >300</td>\n",
       "                        <td id=\"T_493f4ac0_88fa_11ec_99c4_1f3eb8029ca5row0_col5\" class=\"data row0 col5\" >903</td>\n",
       "            </tr>\n",
       "            <tr>\n",
       "                        <th id=\"T_493f4ac0_88fa_11ec_99c4_1f3eb8029ca5level0_row1\" class=\"row_heading level0 row1\" >bad</th>\n",
       "                        <td id=\"T_493f4ac0_88fa_11ec_99c4_1f3eb8029ca5row1_col0\" class=\"data row1 col0\" >500</td>\n",
       "                        <td id=\"T_493f4ac0_88fa_11ec_99c4_1f3eb8029ca5row1_col1\" class=\"data row1 col1\" >100</td>\n",
       "                        <td id=\"T_493f4ac0_88fa_11ec_99c4_1f3eb8029ca5row1_col2\" class=\"data row1 col2\" >384</td>\n",
       "                        <td id=\"T_493f4ac0_88fa_11ec_99c4_1f3eb8029ca5row1_col3\" class=\"data row1 col3\" >248</td>\n",
       "                        <td id=\"T_493f4ac0_88fa_11ec_99c4_1f3eb8029ca5row1_col4\" class=\"data row1 col4\" >104</td>\n",
       "                        <td id=\"T_493f4ac0_88fa_11ec_99c4_1f3eb8029ca5row1_col5\" class=\"data row1 col5\" >1336</td>\n",
       "            </tr>\n",
       "            <tr>\n",
       "                        <th id=\"T_493f4ac0_88fa_11ec_99c4_1f3eb8029ca5level0_row2\" class=\"row_heading level0 row2\" >m_nice</th>\n",
       "                        <td id=\"T_493f4ac0_88fa_11ec_99c4_1f3eb8029ca5row2_col0\" class=\"data row2 col0\" >360</td>\n",
       "                        <td id=\"T_493f4ac0_88fa_11ec_99c4_1f3eb8029ca5row2_col1\" class=\"data row2 col1\" >29</td>\n",
       "                        <td id=\"T_493f4ac0_88fa_11ec_99c4_1f3eb8029ca5row2_col2\" class=\"data row2 col2\" >248</td>\n",
       "                        <td id=\"T_493f4ac0_88fa_11ec_99c4_1f3eb8029ca5row2_col3\" class=\"data row2 col3\" >113</td>\n",
       "                        <td id=\"T_493f4ac0_88fa_11ec_99c4_1f3eb8029ca5row2_col4\" class=\"data row2 col4\" >270</td>\n",
       "                        <td id=\"T_493f4ac0_88fa_11ec_99c4_1f3eb8029ca5row2_col5\" class=\"data row2 col5\" >1020</td>\n",
       "            </tr>\n",
       "            <tr>\n",
       "                        <th id=\"T_493f4ac0_88fa_11ec_99c4_1f3eb8029ca5level0_row3\" class=\"row_heading level0 row3\" >m_bad</th>\n",
       "                        <td id=\"T_493f4ac0_88fa_11ec_99c4_1f3eb8029ca5row3_col0\" class=\"data row3 col0\" >438</td>\n",
       "                        <td id=\"T_493f4ac0_88fa_11ec_99c4_1f3eb8029ca5row3_col1\" class=\"data row3 col1\" >63</td>\n",
       "                        <td id=\"T_493f4ac0_88fa_11ec_99c4_1f3eb8029ca5row3_col2\" class=\"data row3 col2\" >358</td>\n",
       "                        <td id=\"T_493f4ac0_88fa_11ec_99c4_1f3eb8029ca5row3_col3\" class=\"data row3 col3\" >164</td>\n",
       "                        <td id=\"T_493f4ac0_88fa_11ec_99c4_1f3eb8029ca5row3_col4\" class=\"data row3 col4\" >186</td>\n",
       "                        <td id=\"T_493f4ac0_88fa_11ec_99c4_1f3eb8029ca5row3_col5\" class=\"data row3 col5\" >1209</td>\n",
       "            </tr>\n",
       "            <tr>\n",
       "                        <th id=\"T_493f4ac0_88fa_11ec_99c4_1f3eb8029ca5level0_row4\" class=\"row_heading level0 row4\" >tit_tat</th>\n",
       "                        <td id=\"T_493f4ac0_88fa_11ec_99c4_1f3eb8029ca5row4_col0\" class=\"data row4 col0\" >300</td>\n",
       "                        <td id=\"T_493f4ac0_88fa_11ec_99c4_1f3eb8029ca5row4_col1\" class=\"data row4 col1\" >99</td>\n",
       "                        <td id=\"T_493f4ac0_88fa_11ec_99c4_1f3eb8029ca5row4_col2\" class=\"data row4 col2\" >265</td>\n",
       "                        <td id=\"T_493f4ac0_88fa_11ec_99c4_1f3eb8029ca5row4_col3\" class=\"data row4 col3\" >181</td>\n",
       "                        <td id=\"T_493f4ac0_88fa_11ec_99c4_1f3eb8029ca5row4_col4\" class=\"data row4 col4\" >300</td>\n",
       "                        <td id=\"T_493f4ac0_88fa_11ec_99c4_1f3eb8029ca5row4_col5\" class=\"data row4 col5\" >1145</td>\n",
>>>>>>> upstream/main
       "            </tr>\n",
       "    </tbody></table>"
      ],
      "text/plain": [
<<<<<<< HEAD
       "<pandas.io.formats.style.Styler at 0x7f6bbc84d750>"
=======
       "<pandas.io.formats.style.Styler at 0x7f027b109590>"
>>>>>>> upstream/main
      ]
     },
     "metadata": {},
     "output_type": "display_data"
    }
   ],
   "source": [
<<<<<<< HEAD
=======
    "#Point 1)\n",
    "\n",
>>>>>>> upstream/main
    "s = ['nice','bad','m_nice','m_bad','tit_tat']\n",
    "\n",
    "result = np.zeros((len(s),len(s)))\n",
    "for i in range(len(s)):\n",
    "    for j in range(i,len(s)):\n",
<<<<<<< HEAD
    "        p1, p2 = fight(s[i],s[j])\n",
=======
    "        p1, p2 = pris_dil.fight(s[i],s[j])\n",
>>>>>>> upstream/main
    "        result[i,j] = p1\n",
    "        result[j,i] = p2\n",
    "\n",
    "df = pd.DataFrame(result,dtype=int,columns=s,index=s)\n",
    "\n",
<<<<<<< HEAD
=======
    "#Rappresentazione risultati\n",
>>>>>>> upstream/main
    "def colorcell(x):\n",
    "    data = x.copy()\n",
    "    data.loc[:,:] = ''\n",
    "    for i in range(5):\n",
    "        for j in range(5):\n",
    "            if result[i,j] < result[j,i]: data.iloc[i,j] = 'color : red'\n",
    "            elif result[i,j] > result[j,i]: data.iloc[i,j] = 'color : green'\n",
    "            else: data.iloc[i,j] = 'color : lightblue'\n",
    "    return data\n",
    "\n",
    "sum = np.sum(result, axis=1)\n",
    "df['result'] = sum\n",
    "df = df.astype({'result': int})\n",
    "df = df.style.apply(colorcell,axis=None)\n",
    "\n",
    "display(df)"
   ]
  },
  {
   "cell_type": "code",
<<<<<<< HEAD
   "execution_count": 5,
   "metadata": {},
   "outputs": [],
   "source": [
    "#Point 2)\n",
    "\n",
    "def round_robin(h, ord=False):\n",
    "    N = len(h)\n",
    "    partecipants = [s[i] for i in h] #h ma con i nomi\n",
    "\n",
    "    result = np.zeros((N,N))\n",
    "    somma = np.zeros(N)\n",
    "    for i in range(N):\n",
    "        for j in range(i+1,N):\n",
    "            p1, p2 = fight(partecipants[i],partecipants[j])\n",
    "            result[i,j] = p1\n",
    "            result[j,i] = p2\n",
    "\n",
    "        somma[i] = np.sum(result[i,:])\n",
    "\n",
    "    unique, n_strategies = np.unique(h,return_counts=True)\n",
    "    media = np.zeros(len(unique))\n",
    "\n",
    "    for i in range(N):\n",
    "        val = int(np.argwhere(unique == h[i]))\n",
    "        media[val] += somma[i]\n",
    "\n",
    "    media = media/n_strategies\n",
    "    \n",
    "    if ord == True:\n",
    "        sort = media.argsort()\n",
    "        media = media[sort]\n",
    "        unique = unique[sort]\n",
    "\n",
    "    return unique, media\n"
   ]
  },
  {
   "cell_type": "code",
   "execution_count": 6,
=======
   "execution_count": 3,
>>>>>>> upstream/main
   "metadata": {},
   "outputs": [
    {
     "name": "stdout",
     "output_type": "stream",
     "text": [
<<<<<<< HEAD
      "[2961.  2742.5 3104.  3030.  3937. ]\n"
=======
      "nice 3\n",
      "bad 9\n",
      "m_nice 6\n",
      "m_bad 6\n",
      "tit_tat 6\n"
>>>>>>> upstream/main
     ]
    },
    {
     "data": {
<<<<<<< HEAD
      "text/plain": [
       "<BarContainer object of 5 artists>"
      ]
     },
     "execution_count": 6,
     "metadata": {},
     "output_type": "execute_result"
    },
    {
     "data": {
      "image/png": "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\n",
=======
      "image/png": "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\n",
>>>>>>> upstream/main
      "text/plain": [
       "<Figure size 432x288 with 1 Axes>"
      ]
     },
     "metadata": {
      "needs_background": "light"
     },
     "output_type": "display_data"
    }
   ],
   "source": [
<<<<<<< HEAD
    "#h = npr.randint(0,len(s),size=20)\n",
    "h = np.array([0,1,1,1,2,3,1,1,1,1,1,4,4,4,4,4,4,4,4,4])\n",
    "unique,media = round_robin(h)\n",
    "s_unique = [s[val] for val in unique]\n",
    "print(media)\n",
    "plt.bar(s_unique,media)"
   ]
  },
  {
   "cell_type": "code",
   "execution_count": 7,
   "metadata": {},
   "outputs": [],
   "source": [
    "#Funzionei di update\n",
    "\n",
    "def update_1(N,strat,av): #taglia la testa al toro\n",
    "\n",
    "    h1 = []\n",
    "    perc = np.array([av[i]/np.sum(av) for i in range(len(strat))])\n",
    "\n",
    "    for i in range(len(strat)):\n",
    "        for j in range(int(round(N*perc[i],0))):\n",
    "            h1.append(strat[i])\n",
    "    \n",
    "    while len(h1) != N:\n",
    "        if len(h1) > N: h1.remove(strat[int(np.where(perc == np.min(perc))[0])])\n",
    "        elif len(h1) < N: h1.append(strat[int(np.where(perc == np.max(perc))[0])])\n",
    "\n",
    "    return np.sort(np.array(h1))\n",
    "\n",
    "def update_1rand(N,strat,av): \n",
    "\n",
    "    h1 = []\n",
    "    perc = np.array([av[i]/np.sum(av) for i in range(len(strat))])\n",
    "\n",
    "    for i in range(len(strat)):\n",
    "        for j in range(int(round(N*perc[i],0))):\n",
    "            h1.append(strat[i])\n",
    "    \n",
    "    while len(h1) != N:\n",
    "        if len(h1) > N: h1.remove(strat[int(np.where(perc == np.min(perc))[0])])\n",
    "        elif len(h1) < N: h1.append(strat[int(np.where(perc == np.max(perc))[0])])\n",
    "    \n",
    "    h1[npr.randint(len(h1))] = npr.randint(len(s))\n",
    "\n",
    "    return np.sort(np.array(h1))\n",
    "\n",
    "def update_2(h1,N,strat,av):\n",
    "\n",
    "    for i in range(3):\n",
    "        if len(av)<1:break\n",
    "        else:\n",
    "            if len(strat)<3: w=0\n",
    "            else: w=npr.randint(2)\n",
    "            k=np.where(h1==strat[w])[0]\n",
    "            if len(k)<1:break\n",
    "            else:h1[k[0]]=strat[-w-1]\n",
    "\n",
    "    return np.sort(np.array(h1))\n",
    "\n",
    "update = {'update_1': partial(update_1),\n",
    "        'update_1rand': partial(update_1rand),\n",
    "        'update_2': partial(update_2)}"
   ]
  },
  {
   "cell_type": "code",
   "execution_count": 8,
   "metadata": {},
   "outputs": [],
   "source": [
    "#Punto 3)\n",
    "\n",
    "npr.seed(10)\n",
    "#h = [0,1,1,1,1,1,1,4,4,4,4,4,4]\n",
    "h = npr.randint(0,len(s),size=20)\n",
    "\n",
    "def tournament(h,f,it = None):\n",
    "    \n",
    "    if it == None: it = 100\n",
    "    N = len(h)\n",
    "\n",
    "    n_matrix = np.zeros([it,len(s)])  #matrice per salvare il numero di strat per it\n",
    "    val_matrix = np.zeros([it,len(s)])  #matrice per salvare il punteggio medio di una strat per it\n",
    "    \n",
    "    for i in range(it):\n",
    "        strategies, average_results = round_robin(h)\n",
    "        unique, numbers = np.unique(h, return_counts = True)\n",
    "        numbers_1 = np.array([0 for i in range(len(s))])\n",
    "        average_1 = np.array([0 for i in range(len(s))])\n",
    "\n",
    "        for j in range(len(unique)):\n",
    "            numbers_1[unique[j]] = int(numbers[j])\n",
    "        for j in range(len(strategies)):\n",
    "            average_1[strategies[j]] = average_results[j]\n",
    "\n",
    "        n_matrix[i] = numbers_1\n",
    "        val_matrix[i] = average_1\n",
    "\n",
    "        h = update[f](N,strategies,average_results)\n",
    "\n",
    "    return n_matrix, val_matrix\n",
    "\n",
    "k = 10\n",
    "n_ma, val_ma = tournament(h,'update_1',it=k)\n"
=======
    "#Point 2)\n",
    "\n",
    "h = npr.randint(0,len(s),size=30)\n",
    "unique, n_strategies = np.unique(h,return_counts=True)\n",
    "#h = np.array([0,1,1,1,2,3,1,1,1,1,1,4,4,4,4,4,4,4,4,4])\n",
    "\n",
    "for a,b in zip(unique,n_strategies): print(s[a],b)\n",
    "\n",
    "unique, media = pris_dil.round_robin(h,s,ord=True)\n",
    "\n",
    "s_unique = [s[val] for val in unique]\n",
    "plt.bar(s_unique,media);"
>>>>>>> upstream/main
   ]
  },
  {
   "cell_type": "code",
<<<<<<< HEAD
   "execution_count": 9,
=======
   "execution_count": 4,
>>>>>>> upstream/main
   "metadata": {},
   "outputs": [
    {
     "name": "stdout",
     "output_type": "stream",
     "text": [
<<<<<<< HEAD
      "[[3600. 5516. 5516. 3600. 4293.]\n",
      " [2700. 4316. 4316. 2700. 3690.]\n",
      " [2700. 4316. 4316. 2700. 3690.]\n",
      " [2700. 4316. 4316. 2700. 3690.]\n",
      " [2700. 4316. 4316. 2700. 3690.]\n",
      " [2700. 4316. 4316. 2700. 3690.]\n",
      " [2700. 4316. 4316. 2700. 3690.]\n",
      " [2700. 4316. 4316. 2700. 3690.]\n",
      " [2700. 4316. 4316. 2700. 3690.]\n",
      " [2700. 4316. 4316. 2700. 3690.]]\n"
=======
      "nice 8\n",
      "bad 4\n",
      "m_nice 9\n",
      "m_bad 6\n",
      "tit_tat 3\n"
>>>>>>> upstream/main
     ]
    },
    {
     "data": {
<<<<<<< HEAD
      "image/png": "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\n",
      "text/plain": [
       "<Figure size 1080x432 with 2 Axes>"
=======
      "image/png": "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\n",
      "text/plain": [
       "<Figure size 1080x360 with 2 Axes>"
>>>>>>> upstream/main
      ]
     },
     "metadata": {
      "needs_background": "light"
     },
     "output_type": "display_data"
    }
   ],
   "source": [
<<<<<<< HEAD
    "print(val_ma)\n",
    "\n",
    "fig, (ax1,ax2) = plt.subplots(nrows=1,ncols=2,figsize=(15,6))\n",
=======
    "#Punto 3\n",
    "\n",
    "#h = [0,1,1,1,1,1,1,4,4,4,4,4,4]\n",
    "h = npr.randint(0,len(s),size=30)\n",
    "unique, n_strategies = np.unique(h,return_counts=True)\n",
    "\n",
    "for a,b in zip(unique,n_strategies): print(s[a],b)\n",
    "\n",
    "k = 20\n",
    "n_ma, val_ma = pris_dil.tournament(h,'update_2',s,it=k)\n",
    "\n",
    "fig, (ax1,ax2) = plt.subplots(nrows=1,ncols=2,figsize=(15,5))\n",
>>>>>>> upstream/main
    "\n",
    "for i in range(len(s)):\n",
    "    ax1.plot(np.arange(k),n_ma.T[i],label=s[i])\n",
    "    ax1.set_title('Population')\n",
    "    ax2.plot(np.arange(k),val_ma.T[i],label=s[i])\n",
    "    ax2.set_title('Average points')\n",
    "    ax1.legend()\n",
    "    ax2.legend()\n",
<<<<<<< HEAD
    "plt.show()"
=======
    "plt.show()\n"
   ]
  },
  {
   "cell_type": "code",
   "execution_count": 12,
   "metadata": {},
   "outputs": [
    {
     "name": "stdout",
     "output_type": "stream",
     "text": [
      "[[0. 1. 1. 1. 1. 1. 1. 4. 4. 4. 4. 4. 4.]\n",
      " [0. 0. 0. 0. 0. 0. 0. 0. 0. 0. 0. 0. 1.]]\n",
      "[]\n"
     ]
    },
    {
     "name": "stderr",
     "output_type": "stream",
     "text": [
      "/home/riccardo/anaconda3/lib/python3.7/site-packages/ipykernel_launcher.py:17: DeprecationWarning: elementwise comparison failed; this will raise an error in the future.\n",
      "/home/riccardo/anaconda3/lib/python3.7/site-packages/ipykernel_launcher.py:19: DeprecationWarning: elementwise comparison failed; this will raise an error in the future.\n"
     ]
    },
    {
     "ename": "TypeError",
     "evalue": "only size-1 arrays can be converted to Python scalars",
     "output_type": "error",
     "traceback": [
      "\u001b[0;31m---------------------------------------------------------------------------\u001b[0m",
      "\u001b[0;31mTypeError\u001b[0m                                 Traceback (most recent call last)",
      "\u001b[0;32m<ipython-input-12-5fb3000ffcfa>\u001b[0m in \u001b[0;36m<module>\u001b[0;34m\u001b[0m\n\u001b[1;32m     33\u001b[0m \u001b[0mh\u001b[0m\u001b[0;34m[\u001b[0m\u001b[0;36m1\u001b[0m\u001b[0;34m]\u001b[0m \u001b[0;34m=\u001b[0m \u001b[0;34m[\u001b[0m\u001b[0;36m0\u001b[0m\u001b[0;34m,\u001b[0m\u001b[0;36m0\u001b[0m\u001b[0;34m,\u001b[0m\u001b[0;36m0\u001b[0m\u001b[0;34m,\u001b[0m\u001b[0;36m0\u001b[0m\u001b[0;34m,\u001b[0m\u001b[0;36m0\u001b[0m\u001b[0;34m,\u001b[0m\u001b[0;36m0\u001b[0m\u001b[0;34m,\u001b[0m\u001b[0;36m0\u001b[0m\u001b[0;34m,\u001b[0m\u001b[0;36m0\u001b[0m\u001b[0;34m,\u001b[0m\u001b[0;36m0\u001b[0m\u001b[0;34m,\u001b[0m\u001b[0;36m0\u001b[0m\u001b[0;34m,\u001b[0m\u001b[0;36m0\u001b[0m\u001b[0;34m,\u001b[0m\u001b[0;36m0\u001b[0m\u001b[0;34m,\u001b[0m\u001b[0;36m1\u001b[0m\u001b[0;34m]\u001b[0m\u001b[0;34m\u001b[0m\u001b[0;34m\u001b[0m\u001b[0m\n\u001b[1;32m     34\u001b[0m \u001b[0mprint\u001b[0m\u001b[0;34m(\u001b[0m\u001b[0mh\u001b[0m\u001b[0;34m)\u001b[0m\u001b[0;34m\u001b[0m\u001b[0;34m\u001b[0m\u001b[0m\n\u001b[0;32m---> 35\u001b[0;31m \u001b[0ma\u001b[0m\u001b[0;34m,\u001b[0m\u001b[0mb\u001b[0m \u001b[0;34m=\u001b[0m \u001b[0mround_robin_m\u001b[0m\u001b[0;34m(\u001b[0m\u001b[0mh\u001b[0m\u001b[0;34m,\u001b[0m\u001b[0ms\u001b[0m\u001b[0;34m)\u001b[0m\u001b[0;34m\u001b[0m\u001b[0;34m\u001b[0m\u001b[0m\n\u001b[0m\u001b[1;32m     36\u001b[0m \u001b[0mprint\u001b[0m\u001b[0;34m(\u001b[0m\u001b[0ma\u001b[0m\u001b[0;34m,\u001b[0m\u001b[0mb\u001b[0m\u001b[0;34m)\u001b[0m\u001b[0;34m\u001b[0m\u001b[0;34m\u001b[0m\u001b[0m\n",
      "\u001b[0;32m<ipython-input-12-5fb3000ffcfa>\u001b[0m in \u001b[0;36mround_robin_m\u001b[0;34m(h, s, ord)\u001b[0m\n\u001b[1;32m     17\u001b[0m     \u001b[0mprint\u001b[0m\u001b[0;34m(\u001b[0m\u001b[0mnp\u001b[0m\u001b[0;34m.\u001b[0m\u001b[0margwhere\u001b[0m\u001b[0;34m(\u001b[0m\u001b[0munique\u001b[0m \u001b[0;34m==\u001b[0m \u001b[0mnp\u001b[0m\u001b[0;34m.\u001b[0m\u001b[0marray\u001b[0m\u001b[0;34m(\u001b[0m\u001b[0;34m[\u001b[0m\u001b[0;36m1\u001b[0m\u001b[0;34m,\u001b[0m\u001b[0;36m0\u001b[0m\u001b[0;34m]\u001b[0m\u001b[0;34m)\u001b[0m\u001b[0;34m)\u001b[0m\u001b[0;34m)\u001b[0m\u001b[0;34m\u001b[0m\u001b[0;34m\u001b[0m\u001b[0m\n\u001b[1;32m     18\u001b[0m     \u001b[0;32mfor\u001b[0m \u001b[0mi\u001b[0m \u001b[0;32min\u001b[0m \u001b[0mrange\u001b[0m\u001b[0;34m(\u001b[0m\u001b[0mN\u001b[0m\u001b[0;34m)\u001b[0m\u001b[0;34m:\u001b[0m\u001b[0;34m\u001b[0m\u001b[0;34m\u001b[0m\u001b[0m\n\u001b[0;32m---> 19\u001b[0;31m         \u001b[0mval\u001b[0m \u001b[0;34m=\u001b[0m \u001b[0mint\u001b[0m\u001b[0;34m(\u001b[0m\u001b[0mnp\u001b[0m\u001b[0;34m.\u001b[0m\u001b[0margwhere\u001b[0m\u001b[0;34m(\u001b[0m\u001b[0munique\u001b[0m \u001b[0;34m==\u001b[0m \u001b[0mh\u001b[0m\u001b[0;34m[\u001b[0m\u001b[0;34m:\u001b[0m\u001b[0;34m,\u001b[0m\u001b[0mi\u001b[0m\u001b[0;34m]\u001b[0m\u001b[0;34m)\u001b[0m\u001b[0;34m)\u001b[0m\u001b[0;34m\u001b[0m\u001b[0;34m\u001b[0m\u001b[0m\n\u001b[0m\u001b[1;32m     20\u001b[0m         \u001b[0mmedia\u001b[0m\u001b[0;34m[\u001b[0m\u001b[0mval\u001b[0m\u001b[0;34m]\u001b[0m \u001b[0;34m+=\u001b[0m \u001b[0msomma\u001b[0m\u001b[0;34m[\u001b[0m\u001b[0mi\u001b[0m\u001b[0;34m]\u001b[0m\u001b[0;34m\u001b[0m\u001b[0;34m\u001b[0m\u001b[0m\n\u001b[1;32m     21\u001b[0m \u001b[0;34m\u001b[0m\u001b[0m\n",
      "\u001b[0;31mTypeError\u001b[0m: only size-1 arrays can be converted to Python scalars"
     ]
    }
   ],
   "source": [
    "def round_robin_m(h,s,ord=False):\n",
    "    N = len(h[0])\n",
    "    partecipants = [s[int(i)] for i in h[0]] #h ma con i nomi\n",
    "\n",
    "    result = np.zeros((N,N))\n",
    "    somma = np.zeros(N)\n",
    "    for i in range(N):\n",
    "        for j in range(i+1,N):\n",
    "            p1, p2 = pris_dil.fight(partecipants[i],partecipants[j], probf=h[1,i], probg=h[1,j])\n",
    "            result[i,j] = p1\n",
    "            result[j,i] = p2\n",
    "\n",
    "        somma[i] = np.sum(result[i,:])\n",
    "\n",
    "    unique, n_strategies = np.unique(h,return_counts=True, axis=1)\n",
    "    media = np.zeros(len(unique))\n",
    "    print(np.argwhere(unique == np.array([1,0])))\n",
    "    for i in range(N):\n",
    "        val = int(np.argwhere(unique == h[:,i]))\n",
    "        media[val] += somma[i]\n",
    "\n",
    "    media = media/n_strategies\n",
    "    \n",
    "    if ord == True:\n",
    "        sort = media.argsort()\n",
    "        media = media[sort]\n",
    "        unique = unique[sort]\n",
    "\n",
    "    return unique, media\n",
    "\n",
    "h = np.zeros((2,13))\n",
    "h[0] = [0,1,1,1,1,1,1,4,4,4,4,4,4]\n",
    "h[1] = [0,0,0,0,0,0,0,0,0,0,0,0,1]\n",
    "print(h)\n",
    "a,b = round_robin_m(h,s)\n",
    "print(a,b)"
>>>>>>> upstream/main
   ]
  },
  {
   "cell_type": "code",
   "execution_count": null,
   "metadata": {},
   "outputs": [],
   "source": []
  }
 ],
 "metadata": {
  "kernelspec": {
   "display_name": "Python 3",
   "language": "python",
   "name": "python3"
  },
  "language_info": {
   "codemirror_mode": {
    "name": "ipython",
    "version": 3
   },
   "file_extension": ".py",
   "mimetype": "text/x-python",
   "name": "python",
   "nbconvert_exporter": "python",
   "pygments_lexer": "ipython3",
<<<<<<< HEAD
   "version": "3.7.6"
=======
   "version": "3.7.4"
>>>>>>> upstream/main
  }
 },
 "nbformat": 4,
 "nbformat_minor": 2
}
